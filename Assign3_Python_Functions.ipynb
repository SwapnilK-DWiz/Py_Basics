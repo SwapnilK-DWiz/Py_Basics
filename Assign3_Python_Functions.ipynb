{
  "nbformat": 4,
  "nbformat_minor": 0,
  "metadata": {
    "colab": {
      "provenance": []
    },
    "kernelspec": {
      "name": "python3",
      "display_name": "Python 3"
    },
    "language_info": {
      "name": "python"
    }
  },
  "cells": [
    {
      "cell_type": "markdown",
      "source": [
        "#Assignment3- Python functions"
      ],
      "metadata": {
        "id": "zws6JDfabeMy"
      }
    },
    {
      "cell_type": "markdown",
      "source": [
        "Q1 Which keyword is used to create a function? Create a function to return a list of odd numbers in the\n",
        "range of 1 to 25."
      ],
      "metadata": {
        "id": "mZpWQoL0EI9E"
      }
    },
    {
      "cell_type": "code",
      "execution_count": 43,
      "metadata": {
        "colab": {
          "base_uri": "https://localhost:8080/"
        },
        "id": "dvv9ofcSbJsx",
        "outputId": "dd6eea50-72df-4911-fffa-efa53d6beb5a"
      },
      "outputs": [
        {
          "output_type": "execute_result",
          "data": {
            "text/plain": [
              "[1, 3, 5, 7, 9, 11, 13, 15, 17, 19, 21, 23]"
            ]
          },
          "metadata": {},
          "execution_count": 43
        }
      ],
      "source": [
        "#Functions in python are defined by keyword 'def' followed by the function name, e.g def sqrt()\n",
        "\n",
        "def odd_num(inp_list):\n",
        "  lst = []\n",
        "  for i in inp_list:\n",
        "    if i%2==1:\n",
        "      lst.append(i)\n",
        "  return(lst)\n",
        "\n",
        "x=list(range(1,25))\n",
        "odd_num(x)\n"
      ]
    },
    {
      "cell_type": "markdown",
      "source": [
        "Q2. Why *args and **kwargs is used in some functions? Create a function each for *args and **kwargs to\n",
        "demonstrate their use."
      ],
      "metadata": {
        "id": "XhEN-uO0EfQn"
      }
    },
    {
      "cell_type": "code",
      "source": [
        "\"\"\"*args as an argument while defining a function, to pass a variable number of arguments or when do not the count of argument the function is expected to receive.\n",
        "This could be an integer/string, a list or combinations of these.\n",
        "\n",
        "*kwargs plays a similar role, is passed as an argument while defining a function, when the variable argumnets are key:value par arguments or dictionary\"\"\"\n",
        "\n",
        "def print_inp(a,b):\n",
        "  print('without args:',a,b)\n",
        "\n",
        "print_inp(4,9)\n",
        "\n",
        "#but if we enter more or less than 2 aruguments it will throw an error, hence instead of passing a fix set of arguments we can pass *args\n",
        "\n",
        "def print_inp(*args):\n",
        "  print('withargs:',args)\n",
        "\n",
        "print_inp(4,2,2,2)\n",
        "\n",
        "\n",
        "#this works similarly when we have a variable key:value set of arguments\n",
        "\n",
        "def print_inp(**kwargs):\n",
        "  print('withkwargs:',kwargs)\n",
        "\n",
        "print_inp(k1='v1',k2='v2',k3=('v3','v4'))"
      ],
      "metadata": {
        "colab": {
          "base_uri": "https://localhost:8080/"
        },
        "id": "dz9SukfJc0Sl",
        "outputId": "c47b53fd-19ce-4be8-ada7-2f7d0f14ac19"
      },
      "execution_count": 42,
      "outputs": [
        {
          "output_type": "stream",
          "name": "stdout",
          "text": [
            "without args: 4 9\n",
            "withargs: (4, 2, 2, 2)\n",
            "withkwargs: {'k1': 'v1', 'k2': 'v2', 'k3': ('v3', 'v4')}\n"
          ]
        }
      ]
    },
    {
      "cell_type": "markdown",
      "source": [
        "Q3. What is an iterator in python? Name the method used to initialise the iterator object and the method\n",
        "used for iteration. Use these methods to print the first five elements of the given list [2, 4, 6, 8, 10, 12, 14, 16,\n",
        "18, 20]."
      ],
      "metadata": {
        "id": "pHq_q_QbE24t"
      }
    },
    {
      "cell_type": "code",
      "source": [
        "\"\"\"Iterator in python is an object that is used to iterate over a collection of elements like list, tuples, dictionary etc.\n",
        "Iter () is the method used to initalise the iterator object which retunrs the iterator and next() returns the next value in sequence. Below is an example\"\"\"\n",
        "\n",
        "list =[2,4,6,8,10,12,14,16,18,20]\n",
        "n=5\n",
        "c =iter(list)\n",
        "for i in range(0,n):\n",
        " print(next(c))"
      ],
      "metadata": {
        "colab": {
          "base_uri": "https://localhost:8080/"
        },
        "id": "USeNlb3dgYVU",
        "outputId": "7b0ca3a0-bab7-4861-8e7f-ac7fc045f84c"
      },
      "execution_count": 47,
      "outputs": [
        {
          "output_type": "stream",
          "name": "stdout",
          "text": [
            "2\n",
            "4\n",
            "6\n",
            "8\n",
            "10\n"
          ]
        }
      ]
    },
    {
      "cell_type": "markdown",
      "source": [
        "Q4. What is a generator function in python? Why yield keyword is used? Give an example of a generator\n",
        "function."
      ],
      "metadata": {
        "id": "apJwdAS0OfI6"
      }
    },
    {
      "cell_type": "code",
      "source": [
        "\"\"\"generator functions are special type of functions that genarate a sequence of values. When called, it returns an iterator that can be used to iterate over the values in the\n",
        "sequence. It uses Yield statement to return values one at a time, allowing for efficient and memory-saving processing of large amounts of data\"\"\"\n",
        "\n",
        "\n",
        "def test_fib(n) :\n",
        "    a,b = 0,1\n",
        "    for i in range(n):\n",
        "        yield a\n",
        "        a,b = b ,a+b\n",
        "\n",
        "test_fib(8)"
      ],
      "metadata": {
        "colab": {
          "base_uri": "https://localhost:8080/"
        },
        "id": "3HXrlp3fK5tZ",
        "outputId": "298396a9-b30b-4b24-97f4-c30c0791af3e"
      },
      "execution_count": 51,
      "outputs": [
        {
          "output_type": "execute_result",
          "data": {
            "text/plain": [
              "<generator object test_fib at 0x7f4d64708ba0>"
            ]
          },
          "metadata": {},
          "execution_count": 51
        }
      ]
    },
    {
      "cell_type": "code",
      "source": [
        "for i in test_fib(8):\n",
        "  print(i)"
      ],
      "metadata": {
        "colab": {
          "base_uri": "https://localhost:8080/"
        },
        "id": "ygwceyz5Pp3e",
        "outputId": "cd13ec92-2396-466a-a051-d0f48d0f4e06"
      },
      "execution_count": 53,
      "outputs": [
        {
          "output_type": "stream",
          "name": "stdout",
          "text": [
            "0\n",
            "1\n",
            "1\n",
            "2\n",
            "3\n",
            "5\n",
            "8\n",
            "13\n"
          ]
        }
      ]
    },
    {
      "cell_type": "markdown",
      "source": [
        "Q5. Create a generator function for prime numbers less than 1000. Use the next() method to print the first 20 prime numbers."
      ],
      "metadata": {
        "id": "uAec38U6TSeH"
      }
    },
    {
      "cell_type": "code",
      "source": [],
      "metadata": {
        "id": "e6qoMYQ1TGFh"
      },
      "execution_count": 54,
      "outputs": []
    },
    {
      "cell_type": "code",
      "source": [
        "def prim():\n",
        "    p_list=[2]\n",
        "    yield 2\n",
        "    x =3\n",
        "    while x<1000:\n",
        "      p_flag=True\n",
        "\n",
        "      for i in range(2,x):\n",
        "        if x%i==0:\n",
        "          p_flag=False\n",
        "          break\n",
        "\n",
        "      if p_flag:\n",
        "        p_list.append(x)\n",
        "        yield x\n",
        "      x +=1\n",
        "\n",
        "gen=prim()"
      ],
      "metadata": {
        "id": "3bp0cM0Z3-AN"
      },
      "execution_count": 38,
      "outputs": []
    },
    {
      "cell_type": "code",
      "source": [
        "count=20\n",
        "for a in range(count):\n",
        "  print(next(gen))"
      ],
      "metadata": {
        "colab": {
          "base_uri": "https://localhost:8080/"
        },
        "id": "-bRPba7rYIkQ",
        "outputId": "ddc395c2-3bf8-4cab-c8f3-a9a370203042"
      },
      "execution_count": 39,
      "outputs": [
        {
          "output_type": "stream",
          "name": "stdout",
          "text": [
            "2\n",
            "3\n",
            "5\n",
            "7\n",
            "11\n",
            "13\n",
            "17\n",
            "19\n",
            "23\n",
            "29\n",
            "31\n",
            "37\n",
            "41\n",
            "43\n",
            "47\n",
            "53\n",
            "59\n",
            "61\n",
            "67\n",
            "71\n"
          ]
        }
      ]
    },
    {
      "cell_type": "code",
      "source": [],
      "metadata": {
        "id": "Hau3Le8R8OT9"
      },
      "execution_count": null,
      "outputs": []
    }
  ]
}