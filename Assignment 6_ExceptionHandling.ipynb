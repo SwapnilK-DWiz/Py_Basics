{
  "cells": [
    {
      "cell_type": "markdown",
      "metadata": {
        "id": "pOgyujY543VM"
      },
      "source": [
        "Q1.What is an exception in Python? Write the dfference between exceptions and syntax errors.\n"
      ]
    },
    {
      "cell_type": "markdown",
      "metadata": {
        "id": "afl7AijmG_h3"
      },
      "source": [
        "An exception is an unexpected event that occurs during program execution. For example,when a mathematical operation tries to divide a number by 0.\n",
        "\n",
        "a = 10/0\n",
        "\n",
        "Errors that occur at runtime (after passing the syntax test) are called exceptions or logical errors. Whenever these types of runtime errors occur, Python creates an exception object.For instance, they occur when we\n",
        "\n",
        "1. try to open a file(for reading) that does not exist (FileNotFoundError)\n",
        "2. try to divide a number by zero (ZeroDivisionError)\n",
        "3. try to import a module that does not exist (ImportError) and so on."
      ]
    },
    {
      "cell_type": "markdown",
      "metadata": {
        "id": "eM9xVrjNOI6U"
      },
      "source": [
        "Q2. What happens when an exception is not handled ?"
      ]
    },
    {
      "cell_type": "markdown",
      "metadata": {
        "id": "3Bb28hVMO9c_"
      },
      "source": [
        "If Exceptions are not handled properly, it prints a traceback to that error along with some details about why that error occurred."
      ]
    },
    {
      "cell_type": "code",
      "execution_count": 3,
      "metadata": {
        "colab": {
          "base_uri": "https://localhost:8080/",
          "height": 210
        },
        "id": "O5O4e1W5IGMl",
        "outputId": "f9a7da1e-f894-4f88-a181-1ab8a32657a1"
      },
      "outputs": [
        {
          "output_type": "error",
          "ename": "ZeroDivisionError",
          "evalue": "ignored",
          "traceback": [
            "\u001b[0;31m---------------------------------------------------------------------------\u001b[0m",
            "\u001b[0;31mZeroDivisionError\u001b[0m                         Traceback (most recent call last)",
            "\u001b[0;32m<ipython-input-3-3651b85753b9>\u001b[0m in \u001b[0;36m<cell line: 2>\u001b[0;34m()\u001b[0m\n\u001b[1;32m      1\u001b[0m \u001b[0ma\u001b[0m \u001b[0;34m=\u001b[0m \u001b[0;36m10\u001b[0m\u001b[0;34m\u001b[0m\u001b[0;34m\u001b[0m\u001b[0m\n\u001b[0;32m----> 2\u001b[0;31m \u001b[0mdiv\u001b[0m \u001b[0;34m=\u001b[0m \u001b[0ma\u001b[0m \u001b[0;34m/\u001b[0m \u001b[0;36m0\u001b[0m\u001b[0;34m\u001b[0m\u001b[0;34m\u001b[0m\u001b[0m\n\u001b[0m\u001b[1;32m      3\u001b[0m \u001b[0mprint\u001b[0m\u001b[0;34m(\u001b[0m\u001b[0mdivide_numbers\u001b[0m\u001b[0;34m)\u001b[0m\u001b[0;34m\u001b[0m\u001b[0;34m\u001b[0m\u001b[0m\n",
            "\u001b[0;31mZeroDivisionError\u001b[0m: division by zero"
          ]
        }
      ],
      "source": [
        "a = 10\n",
        "div = a / 0\n",
        "print(divide_numbers)"
      ]
    },
    {
      "cell_type": "markdown",
      "metadata": {
        "id": "PeyDyHgaQmOu"
      },
      "source": [
        "A traceback is a report containing the sequence of calls and operations that traces down to the current exception.\n",
        "\n",
        "Now we know these exceptions abnormally terminate the execution of a program.That is why it is important to handle exceptions"
      ]
    },
    {
      "cell_type": "markdown",
      "metadata": {
        "id": "lb-dXRbAREtH"
      },
      "source": [
        "Q3. Which python statements are used to catch and handle exceptions ?"
      ]
    },
    {
      "cell_type": "markdown",
      "metadata": {
        "id": "kAmnfP5TSbUn"
      },
      "source": [
        ">>>\n",
        "We use the try...except block to handle exceptions in Python\n",
        "try:\n",
        "    # code that may cause exception\n",
        "except:\n",
        "    # code to run when exception occurs\n",
        "\n",
        "We have added the code that might generate an exception inside the try block. And every try block is followed by an except block.\n",
        "\n",
        "So when an exception occurs, it is caught by the except block. Another example"
      ]
    },
    {
      "cell_type": "code",
      "execution_count": 4,
      "metadata": {
        "colab": {
          "base_uri": "https://localhost:8080/"
        },
        "id": "-ZgFaEkfP4fo",
        "outputId": "37f517b1-07f1-495b-f3ea-05e9aed2f2f9"
      },
      "outputs": [
        {
          "output_type": "stream",
          "name": "stdout",
          "text": [
            "Index is not valid or out of range\n"
          ]
        }
      ],
      "source": [
        "try:\n",
        "    List = [1,2,3,5]\n",
        "    print(List[5])\n",
        "\n",
        "except IndexError:\n",
        "    print(\"Index is not valid or out of range\")"
      ]
    },
    {
      "cell_type": "markdown",
      "metadata": {
        "id": "4Uj_4V_1ZYf7"
      },
      "source": [
        "Q4. Explain with examples"
      ]
    },
    {
      "cell_type": "markdown",
      "metadata": {
        "id": "3ptkeheyaGqC"
      },
      "source": [
        "a. try and else: we use this where we want to run a certain block of code if the code block inside try runs without any errors."
      ]
    },
    {
      "cell_type": "code",
      "execution_count": 5,
      "metadata": {
        "colab": {
          "base_uri": "https://localhost:8080/"
        },
        "id": "n1KDK1oNZjjO",
        "outputId": "244b8ddb-cdb7-4abc-a13a-2fd718bf8fc9"
      },
      "outputs": [
        {
          "output_type": "stream",
          "name": "stdout",
          "text": [
            "Enter a number: 6\n",
            "It is an even number\n"
          ]
        }
      ],
      "source": [
        "try:\n",
        "    a = int(input(\"Enter a number: \"))\n",
        "    assert a % 2 == 0\n",
        "except:\n",
        "    print(\"Not an even number!\")\n",
        "else:\n",
        "    print('It is an even number')"
      ]
    },
    {
      "cell_type": "markdown",
      "metadata": {
        "id": "8pkokn8HgkZ_"
      },
      "source": [
        "b. finally: the finally block is always executed no matter whether there is an exception or not. It offers a code to be run unconditionally, although adding a finally block is optional."
      ]
    },
    {
      "cell_type": "code",
      "execution_count": 6,
      "metadata": {
        "colab": {
          "base_uri": "https://localhost:8080/"
        },
        "id": "wgnWhydngC-8",
        "outputId": "6358136b-a9c4-46bb-e36a-96ae1193f6df"
      },
      "outputs": [
        {
          "output_type": "stream",
          "name": "stdout",
          "text": [
            "Error: Denominator cannot be 0.\n",
            "This is output from the finally block.\n"
          ]
        }
      ],
      "source": [
        "try:\n",
        "    n = 5\n",
        "    d = 0\n",
        "\n",
        "    r = n/d\n",
        "    print(r)\n",
        "\n",
        "except:\n",
        "    print(\"Error: Denominator cannot be 0.\")\n",
        "\n",
        "finally:\n",
        "    print(\"This is output from the finally block.\")"
      ]
    },
    {
      "cell_type": "markdown",
      "metadata": {
        "id": "X60iL2NZhkwx"
      },
      "source": [
        "c. raise: At times, we might come across situations where we need to signal that something is going wrong in the code. For example, maybe a file doesn’t exist, a network or database connection fails, or code gets invalid input.\n",
        "\n",
        "A common approach to tackle these issues is to raise an exception, notifying the user that an error has occurred. keyword 'raise'is used to raise an exception (custom or in-bulit) and you can define what kind of error to raise, and the text to print to the user."
      ]
    },
    {
      "cell_type": "code",
      "execution_count": 7,
      "metadata": {
        "colab": {
          "base_uri": "https://localhost:8080/",
          "height": 245
        },
        "id": "3l3gRAT5herd",
        "outputId": "168f871d-68f9-4d20-9364-7fc0f694addc"
      },
      "outputs": [
        {
          "output_type": "error",
          "ename": "TypeError",
          "evalue": "ignored",
          "traceback": [
            "\u001b[0;31m---------------------------------------------------------------------------\u001b[0m",
            "\u001b[0;31mTypeError\u001b[0m                                 Traceback (most recent call last)",
            "\u001b[0;32m<ipython-input-7-4142903fd0cb>\u001b[0m in \u001b[0;36m<cell line: 3>\u001b[0;34m()\u001b[0m\n\u001b[1;32m      2\u001b[0m \u001b[0;34m\u001b[0m\u001b[0m\n\u001b[1;32m      3\u001b[0m \u001b[0;32mif\u001b[0m \u001b[0mtype\u001b[0m\u001b[0;34m(\u001b[0m\u001b[0mvar\u001b[0m\u001b[0;34m)\u001b[0m \u001b[0;32mis\u001b[0m \u001b[0;32mnot\u001b[0m \u001b[0mint\u001b[0m\u001b[0;34m:\u001b[0m\u001b[0;34m\u001b[0m\u001b[0;34m\u001b[0m\u001b[0m\n\u001b[0;32m----> 4\u001b[0;31m   \u001b[0;32mraise\u001b[0m \u001b[0mTypeError\u001b[0m\u001b[0;34m(\u001b[0m\u001b[0;34m\"Only integers are allowed\"\u001b[0m\u001b[0;34m)\u001b[0m\u001b[0;34m\u001b[0m\u001b[0;34m\u001b[0m\u001b[0m\n\u001b[0m\u001b[1;32m      5\u001b[0m \u001b[0;32melse\u001b[0m\u001b[0;34m:\u001b[0m\u001b[0;34m\u001b[0m\u001b[0;34m\u001b[0m\u001b[0m\n\u001b[1;32m      6\u001b[0m   \u001b[0mprint\u001b[0m\u001b[0;34m(\u001b[0m\u001b[0;34m'It is an integer'\u001b[0m\u001b[0;34m)\u001b[0m\u001b[0;34m\u001b[0m\u001b[0;34m\u001b[0m\u001b[0m\n",
            "\u001b[0;31mTypeError\u001b[0m: Only integers are allowed"
          ]
        }
      ],
      "source": [
        "var = 'test'\n",
        "\n",
        "if type(var) is not int:\n",
        "  raise TypeError(\"Only integers are allowed\")\n",
        "else:\n",
        "  print('It is an integer')"
      ]
    },
    {
      "cell_type": "markdown",
      "source": [
        "Q5. What are custom exceptions ? Why do we need custom exceptions ? Examples\n",
        "\n",
        "-\n",
        "\n",
        "exceptions raised can be built-in or custom, but the results are same. When we raise exceptions manually using 'raise', we get exception traceback and the program crashes until the exception is handled.\n",
        "\n",
        "Built-in exceptions give information on python problem, custom exceptions help you add information about project specific errors and help in debugging.They allow you to define your own error conditions and handle them in a more specific and meaningful way.\n",
        "\n",
        "Below example checks % scored in a subject out of 6 and would show InvalidIndexError if dataset is missing grades for a subject. Alternatively, with custom excception handling debugging becomes easier."
      ],
      "metadata": {
        "id": "8THBp1gEN-u1"
      }
    },
    {
      "cell_type": "code",
      "source": [
        "total = 80\n",
        "\n",
        "class MissingGradesValue(Exception):\n",
        "  pass\n",
        "\n",
        "def calc_perc(marks):\n",
        "  if len(marks)<6:\n",
        "    raise MissingGradesValue(\"Dataset incomplete: Grades missing for a subject\")\n",
        "  inp = int(input(\"input subject index out of 1 to 6\"))\n",
        "  perc_score = round((marks[inp-1]/total)*100,2)\n",
        "  return perc_score\n",
        "\n",
        "calc_perc([52,62,42,64,60,75])"
      ],
      "metadata": {
        "colab": {
          "base_uri": "https://localhost:8080/"
        },
        "id": "j1y_GNkDfISK",
        "outputId": "da9f53bb-f5e4-4da9-9d96-17a8a39eb3e0"
      },
      "execution_count": 16,
      "outputs": [
        {
          "name": "stdout",
          "output_type": "stream",
          "text": [
            "input subject index out of 1 to 65\n"
          ]
        },
        {
          "output_type": "execute_result",
          "data": {
            "text/plain": [
              "75.0"
            ]
          },
          "metadata": {},
          "execution_count": 16
        }
      ]
    },
    {
      "cell_type": "markdown",
      "source": [
        "Q6. Create a custom exception class. Use this class to handle an exception"
      ],
      "metadata": {
        "id": "QmscXsq4QCMm"
      }
    },
    {
      "cell_type": "code",
      "execution_count": 18,
      "metadata": {
        "colab": {
          "base_uri": "https://localhost:8080/",
          "height": 332
        },
        "id": "m7gmkqYfmx9e",
        "outputId": "9ab1ecbb-2858-417a-8dd5-f0e0887361b3"
      },
      "outputs": [
        {
          "output_type": "error",
          "ename": "GradeValueError",
          "evalue": "ignored",
          "traceback": [
            "\u001b[0;31m---------------------------------------------------------------------------\u001b[0m",
            "\u001b[0;31mGradeValueError\u001b[0m                           Traceback (most recent call last)",
            "\u001b[0;32m<ipython-input-18-c2f492ba13ee>\u001b[0m in \u001b[0;36m<cell line: 14>\u001b[0;34m()\u001b[0m\n\u001b[1;32m     12\u001b[0m   \u001b[0;32mreturn\u001b[0m \u001b[0mround\u001b[0m\u001b[0;34m(\u001b[0m\u001b[0mgrades_total\u001b[0m\u001b[0;34m/\u001b[0m\u001b[0msubj_count\u001b[0m\u001b[0;34m,\u001b[0m\u001b[0;36m2\u001b[0m\u001b[0;34m)\u001b[0m\u001b[0;34m\u001b[0m\u001b[0;34m\u001b[0m\u001b[0m\n\u001b[1;32m     13\u001b[0m \u001b[0;34m\u001b[0m\u001b[0m\n\u001b[0;32m---> 14\u001b[0;31m \u001b[0mcalculateAvgGrade\u001b[0m\u001b[0;34m(\u001b[0m\u001b[0;34m[\u001b[0m\u001b[0;36m75\u001b[0m\u001b[0;34m,\u001b[0m\u001b[0;36m62\u001b[0m\u001b[0;34m,\u001b[0m\u001b[0;34m-\u001b[0m\u001b[0;36m40\u001b[0m\u001b[0;34m,\u001b[0m\u001b[0;36m90\u001b[0m\u001b[0;34m,\u001b[0m\u001b[0;36m81\u001b[0m\u001b[0;34m]\u001b[0m\u001b[0;34m)\u001b[0m\u001b[0;34m\u001b[0m\u001b[0;34m\u001b[0m\u001b[0m\n\u001b[0m",
            "\u001b[0;32m<ipython-input-18-c2f492ba13ee>\u001b[0m in \u001b[0;36mcalculateAvgGrade\u001b[0;34m(grades)\u001b[0m\n\u001b[1;32m      7\u001b[0m   \u001b[0;32mfor\u001b[0m \u001b[0mi\u001b[0m \u001b[0;32min\u001b[0m \u001b[0mgrades\u001b[0m\u001b[0;34m:\u001b[0m\u001b[0;34m\u001b[0m\u001b[0;34m\u001b[0m\u001b[0m\n\u001b[1;32m      8\u001b[0m     \u001b[0;32mif\u001b[0m \u001b[0mi\u001b[0m \u001b[0;34m>\u001b[0m \u001b[0;36m100\u001b[0m \u001b[0;32mor\u001b[0m \u001b[0mi\u001b[0m \u001b[0;34m<\u001b[0m \u001b[0;36m0\u001b[0m\u001b[0;34m:\u001b[0m\u001b[0;34m\u001b[0m\u001b[0;34m\u001b[0m\u001b[0m\n\u001b[0;32m----> 9\u001b[0;31m       \u001b[0;32mraise\u001b[0m \u001b[0mGradeValueError\u001b[0m\u001b[0;34m(\u001b[0m\u001b[0;34m'Grade value is out of range 0 to 100'\u001b[0m\u001b[0;34m)\u001b[0m\u001b[0;34m\u001b[0m\u001b[0;34m\u001b[0m\u001b[0m\n\u001b[0m\u001b[1;32m     10\u001b[0m     \u001b[0mgrades_total\u001b[0m \u001b[0;34m+=\u001b[0m \u001b[0mi\u001b[0m\u001b[0;34m\u001b[0m\u001b[0;34m\u001b[0m\u001b[0m\n\u001b[1;32m     11\u001b[0m     \u001b[0msubj_count\u001b[0m \u001b[0;34m+=\u001b[0m \u001b[0;36m1\u001b[0m\u001b[0;34m\u001b[0m\u001b[0;34m\u001b[0m\u001b[0m\n",
            "\u001b[0;31mGradeValueError\u001b[0m: Grade value is out of range 0 to 100"
          ]
        }
      ],
      "source": [
        "\n",
        "class GradeValueError(Exception):\n",
        "  pass\n",
        "\n",
        "def calculateAvgGrade(grades):\n",
        "  grades_total= 0\n",
        "  subj_count= 0\n",
        "  for i in grades:\n",
        "    if i > 100 or i < 0:\n",
        "      raise GradeValueError('Grade value is out of range 0 to 100')\n",
        "    grades_total += i\n",
        "    subj_count += 1\n",
        "  return round(grades_total/subj_count,2)\n",
        "\n",
        "calculateAvgGrade([75,62,-40,90,81])\n"
      ]
    }
  ],
  "metadata": {
    "colab": {
      "provenance": []
    },
    "kernelspec": {
      "display_name": "Python 3",
      "name": "python3"
    },
    "language_info": {
      "name": "python"
    }
  },
  "nbformat": 4,
  "nbformat_minor": 0
}