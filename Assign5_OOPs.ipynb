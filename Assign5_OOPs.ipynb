{
  "nbformat": 4,
  "nbformat_minor": 0,
  "metadata": {
    "colab": {
      "provenance": []
    },
    "kernelspec": {
      "name": "python3",
      "display_name": "Python 3"
    },
    "language_info": {
      "name": "python"
    }
  },
  "cells": [
    {
      "cell_type": "markdown",
      "source": [
        "#Assignment5 - OOPs concepts"
      ],
      "metadata": {
        "id": "s-ruUHQ8draA"
      }
    },
    {
      "cell_type": "markdown",
      "source": [
        "Q1. Explain Class and Object with respect to Object-Oriented Programming. Give a suitable example."
      ],
      "metadata": {
        "id": "VHBAKyRidj7f"
      }
    },
    {
      "cell_type": "markdown",
      "source": [
        "The fundamental concept behind OOPs is to bind the data and functions that use this data together, in a single unit. A Class forms this logical entity and binds all attributes together.\n",
        "\n",
        "A common analogy is that a class is like the blueprint for a house. You can use the blueprint to create several houses and even a complete neighborhood. Each concrete house is an object or instance that’s derived from the blueprint - source:Real Python"
      ],
      "metadata": {
        "id": "VUKiqYWDeEAo"
      }
    },
    {
      "cell_type": "code",
      "execution_count": 77,
      "metadata": {
        "colab": {
          "base_uri": "https://localhost:8080/"
        },
        "id": "v6ywxTw1dP8o",
        "outputId": "e1050116-b253-436c-b976-4f62b3ebcfd0"
      },
      "outputs": [
        {
          "output_type": "stream",
          "name": "stdout",
          "text": [
            "This is a lesson on OOPs\n"
          ]
        }
      ],
      "source": [
        "class PWDS:\n",
        "  def module(self, name):\n",
        "    print('This is a lesson on',name)\n",
        "\n",
        "pw1=PWDS()\n",
        "\n",
        "pw1.module('OOPs')"
      ]
    },
    {
      "cell_type": "markdown",
      "source": [
        "We have created a class PWDS with a method module that prints a statement. pw1 is an object or instance of class PWDS (created from a blueprint PWDS) and we can create multiple such instances of a class."
      ],
      "metadata": {
        "id": "y6ux-qOgJAIm"
      }
    },
    {
      "cell_type": "markdown",
      "source": [
        "Q2. Name the four pillars of OOPs."
      ],
      "metadata": {
        "id": "Qz39RpE2LUS8"
      }
    },
    {
      "cell_type": "markdown",
      "source": [
        "Four pillers of OOPs are:\n",
        "1.   Abstraction\n",
        "2.   Encapsulation\n",
        "3.   Inheritance\n",
        "4.   Polymorphism\n",
        "\n",
        "Abstraction is showing only necessary details to the user of an object, in OOPs terms - making only necessary code visible to the user or hiding the implementation of a class\n",
        "\n",
        "Encapsulation as the name says, is encapuslating a part of code - variables, methods so taht the outside world has no impact on it. This makes the code more predicatable, mless vulnerable to bugs.\n",
        "\n",
        "Inheritence allows reusing the atttributes, methods from a parent class without actually duplicating it. It extends unctionality of parent class to it child classes.\n",
        "\n",
        "Polymorphism is how a similar result can be achieved using the same code with different types. This is very commonly seen every code in Python E.g the same method that adds 2 integers as a+b, can achieve concatination of 2 strings inputs."
      ],
      "metadata": {
        "id": "ZAXU4-eSLV7Q"
      }
    },
    {
      "cell_type": "markdown",
      "source": [
        "Q3. Explain why the __ init __() function is used. Give a suitable example."
      ],
      "metadata": {
        "id": "UJkRAEVDb_K1"
      }
    },
    {
      "cell_type": "markdown",
      "source": [
        "__ init __() is called as a constructor method in python and is used to initalize the data memebers of a class when we create a new object.\n",
        "\n",
        "Init() does not need to be called explicitly and whenever an object is created, python internally calls this function."
      ],
      "metadata": {
        "id": "7vRaeg95cCYE"
      }
    },
    {
      "cell_type": "code",
      "source": [
        "class demo:\n",
        "  def __init__(self, year):\n",
        "    self.year = year\n",
        "\n",
        "  def getyear(self):\n",
        "    print('this is',self.year)\n",
        "\n",
        "d1= demo(2023)\n",
        "\n",
        "d1.getyear()"
      ],
      "metadata": {
        "colab": {
          "base_uri": "https://localhost:8080/"
        },
        "id": "0WtyIRicIe8e",
        "outputId": "51d4697e-4c8a-4319-d9d5-79cc23c65b51"
      },
      "execution_count": 78,
      "outputs": [
        {
          "output_type": "stream",
          "name": "stdout",
          "text": [
            "this is 2023\n"
          ]
        }
      ]
    },
    {
      "cell_type": "markdown",
      "source": [
        "in above example, init() method takes self as the first argument which points to the instance of the class.\n",
        "\n",
        "When we create the object d1, it calls constructor method init() - self is replaced by the instance and year by 2023 i.e it initalizes the object of the class demo."
      ],
      "metadata": {
        "id": "5gFHe__XmRh2"
      }
    },
    {
      "cell_type": "markdown",
      "source": [
        "Q4. Why self is used in OOPs?"
      ],
      "metadata": {
        "id": "C9_Ws6MgnsAh"
      }
    },
    {
      "cell_type": "markdown",
      "source": [
        "Self points to the instance of the class and using this keyword we can access attributes and methods of the class its scope.\n",
        "\n",
        "When an object of a class is created, it calls the constructor method to initialize the object > this init() method takes self as the first parameter and points to this instance of the class.\n",
        "\n",
        "Another way self is used is to call other class methods from whithin an instance method, e.g self.classname()"
      ],
      "metadata": {
        "id": "KXsJYrYTntUk"
      }
    },
    {
      "cell_type": "markdown",
      "source": [
        "Q5. What is inheritance? Give an example for each type of inheritance."
      ],
      "metadata": {
        "id": "pzNG-UaatN2y"
      }
    },
    {
      "cell_type": "markdown",
      "source": [
        "Inheritence as the name says, helps to fetch or inherit attributes of a parent class to a child class making code reusability easy and avoids duplication.\n",
        "\n",
        "There are different types of inheritence based on the structure or hierarchy:\n"
      ],
      "metadata": {
        "id": "a6dn6B91tQnB"
      }
    },
    {
      "cell_type": "code",
      "source": [
        "\n",
        "'''1. Single inheritance: Structure where there is a one to one parent-child class relationship.'''\n",
        "\n",
        "class cars:\n",
        "  def show_category(self):\n",
        "    print(' This category is for cars')\n",
        "\n",
        "class maker1(cars):\n",
        "  def maker_name1(self):\n",
        "    print('Tata is a car manufacturer')\n",
        "\n",
        "s1=maker1()\n",
        "s1.show_category()\n",
        "s1.maker_name1()"
      ],
      "metadata": {
        "colab": {
          "base_uri": "https://localhost:8080/"
        },
        "id": "jwTqCpokkmUZ",
        "outputId": "f8f5fca7-4cc6-4aa3-ad66-3c6b1026b1c2"
      },
      "execution_count": 79,
      "outputs": [
        {
          "output_type": "stream",
          "name": "stdout",
          "text": [
            " This category is for cars\n",
            "Tata is a car manufacturer\n"
          ]
        }
      ]
    },
    {
      "cell_type": "code",
      "source": [
        "'''2. Multiple inheritance: When a class is derived from multiple base/parent classes. class suv below is derived from class maker1 and maker2, inheriting methods from both.'''\n",
        "\n",
        "class maker2(cars):\n",
        "  def maker_name2(self):\n",
        "    print('Kia is a car manufacturer')\n",
        "\n",
        "class suv(maker1,maker2):\n",
        "  def show_model(self):\n",
        "    print('Both Tata and Kia manufacture SUVs')\n",
        "\n",
        "mult=suv()\n",
        "mult.maker_name1()\n",
        "mult.maker_name2()\n",
        "mult.show_model()"
      ],
      "metadata": {
        "colab": {
          "base_uri": "https://localhost:8080/"
        },
        "id": "Bo6I9YW2ECkT",
        "outputId": "2657ce28-9277-49c0-8f7a-cc5226dca6e0"
      },
      "execution_count": 80,
      "outputs": [
        {
          "output_type": "stream",
          "name": "stdout",
          "text": [
            "Tata is a car manufacturer\n",
            "Kia is a car manufacturer\n",
            "Both Tata and Kia manufacture SUVs\n"
          ]
        }
      ]
    },
    {
      "cell_type": "code",
      "source": [
        "''' 3. Multilevel Inheritance: where attributes of the parent and its child class is further derived into a sub child class. In below example, we are deriving a class car_name from\n",
        "       class maker1 which is derived from class cars'''\n",
        "\n",
        "class car_name(maker1):\n",
        "  def show_carname(self):\n",
        "    print('Nexon is a SUV model manufactured by Tata')\n",
        "\n",
        "cr1=car_name()\n",
        "cr1.show_category()\n",
        "cr1.maker_name1()\n",
        "cr1.show_carname()"
      ],
      "metadata": {
        "colab": {
          "base_uri": "https://localhost:8080/"
        },
        "id": "KqiGLvtUIqR6",
        "outputId": "a4da5bd1-d131-4cd1-a83a-19c3b635ce3e"
      },
      "execution_count": 81,
      "outputs": [
        {
          "output_type": "stream",
          "name": "stdout",
          "text": [
            " This category is for cars\n",
            "Tata is a car manufacturer\n",
            "Nexon is a SUV model manufactured by Tata\n"
          ]
        }
      ]
    },
    {
      "cell_type": "code",
      "source": [
        "''' 4. Hierarchical Inheritance: where mutiple child classes are dervied from the same parent class. We have already derived classes maker1 and maker 2 from a class cars.\n",
        "Let's see how the methods work - we see both the child classes are capable of inheriting attributes of parent class cars'''\n",
        "\n",
        "mk1=maker1()\n",
        "mk2=maker2()\n",
        "mk1.show_category()\n",
        "mk2.show_category()"
      ],
      "metadata": {
        "colab": {
          "base_uri": "https://localhost:8080/"
        },
        "id": "VKW7n9-4Qy6g",
        "outputId": "7896ca7e-4ca0-449a-f11f-77532bd84742"
      },
      "execution_count": 82,
      "outputs": [
        {
          "output_type": "stream",
          "name": "stdout",
          "text": [
            " This category is for cars\n",
            " This category is for cars\n"
          ]
        }
      ]
    },
    {
      "cell_type": "code",
      "source": [
        "''' 5. Hybrid Inheritance: This is basically just a combination of multiple types of inheritance from above defined types.\n",
        "\n",
        "We already have a parent class cars - which has 2 child classes maker1 and maker2 (making it a hierarchical inheritance)- and class suv is derived from maker1,maker2\n",
        "(making it a multilevel inheritance)'''\n",
        "\n",
        "\n",
        "typ=suv()\n",
        "typ.show_category()\n",
        "typ.maker_name1()\n",
        "typ.maker_name2()\n",
        "\n"
      ],
      "metadata": {
        "colab": {
          "base_uri": "https://localhost:8080/"
        },
        "id": "NqNp8UGNSCfV",
        "outputId": "ece1cdb8-dc4d-4f9a-fbb2-43c172f625e1"
      },
      "execution_count": 83,
      "outputs": [
        {
          "output_type": "stream",
          "name": "stdout",
          "text": [
            " This category is for cars\n",
            "Tata is a car manufacturer\n",
            "Kia is a car manufacturer\n"
          ]
        }
      ]
    }
  ]
}