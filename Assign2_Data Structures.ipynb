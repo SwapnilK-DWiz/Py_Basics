{
  "nbformat": 4,
  "nbformat_minor": 0,
  "metadata": {
    "colab": {
      "provenance": []
    },
    "kernelspec": {
      "name": "python3",
      "display_name": "Python 3"
    },
    "language_info": {
      "name": "python"
    }
  },
  "cells": [
    {
      "cell_type": "markdown",
      "source": [
        "#Assignment2 - 15 May : Data Structures"
      ],
      "metadata": {
        "id": "MOGMYi6qNnu5"
      }
    },
    {
      "cell_type": "code",
      "execution_count": 8,
      "metadata": {
        "colab": {
          "base_uri": "https://localhost:8080/"
        },
        "id": "3SsHECSdLyCQ",
        "outputId": "c0988925-88f3-408d-c81b-0c037a36d4ba"
      },
      "outputs": [
        {
          "output_type": "stream",
          "name": "stdout",
          "text": [
            "Start\n",
            "Stop\n"
          ]
        }
      ],
      "source": [
        "#Q1- commenting code in python, different types of comments\n",
        "\n",
        "#Single line comments - We can use '#' to write a comment by adding i just before the comment\n",
        "\n",
        "print('Start')\n",
        "\n",
        "\"\"\" Multi line comments - Although we can write multi line comments by adding (#) before every line. An efficient way is using triple quotation marks just before and after the comment.\"\"\"\n",
        "\n",
        "print('Stop')"
      ]
    },
    {
      "cell_type": "code",
      "source": [
        "#Q2- variables in python and how to declare, assign values to variables:\n",
        "\n",
        "\"\"\"Variables are just containers where we store values. In python, we don't have to declair variables of a specific type and\n",
        "it is determined directly during runtime when we assign values, also called as 'Dynamic Typing'.\"\"\"\n",
        "\n",
        "a = 4\n",
        "b = 45.5\n",
        "c = \"str\"\n",
        "d = True\n",
        "\n",
        "print(\"a is {} \\n b is {} \\n c is {} \\n d is {}\".format(type(a),type(b),type(c),type(d)))"
      ],
      "metadata": {
        "colab": {
          "base_uri": "https://localhost:8080/"
        },
        "id": "lX4vaXSFTgf_",
        "outputId": "a95a742c-dc9b-4200-9dc7-0bc2c3d46a13"
      },
      "execution_count": 16,
      "outputs": [
        {
          "output_type": "stream",
          "name": "stdout",
          "text": [
            "a is <class 'int'> \n",
            " b is <class 'float'> \n",
            " c is <class 'str'> \n",
            " d is <class 'bool'>\n"
          ]
        }
      ]
    },
    {
      "cell_type": "code",
      "source": [
        "#Q3- converting one data type to another:\n",
        "\n",
        "#This is called type as casting\n",
        "\n",
        "a = 42\n",
        "b=str(a)\n",
        "print(\"a is {} \\n b is {}\".format(type(a),type(b)))"
      ],
      "metadata": {
        "colab": {
          "base_uri": "https://localhost:8080/"
        },
        "id": "XiGavJ-SalZP",
        "outputId": "c2ca6e2e-6166-44f0-ff11-b37a6561b99e"
      },
      "execution_count": 5,
      "outputs": [
        {
          "output_type": "stream",
          "name": "stdout",
          "text": [
            "a is <class 'int'> \n",
            " b is <class 'str'>\n"
          ]
        }
      ]
    },
    {
      "cell_type": "markdown",
      "source": [
        "Q4 - writing and executing a python script from command line\n",
        "\n",
        "---> To run a python script from command line - open cmd and write 'python x.py'\n",
        "(x assumed to be the file name where we have saved the script in .py file format.)\n",
        "\n",
        "we need to have python interpreter installed on the system to run this command.\n"
      ],
      "metadata": {
        "id": "69JocAjYE3Cb"
      }
    },
    {
      "cell_type": "code",
      "source": [
        "#Q5 code to slice my_list=[1,2,3,4,5] and obtan a sublist[2,3]\n",
        "my_list=[1,2,3,4,5]\n",
        "sub_list = my_list[1:3]\n",
        "sub_list"
      ],
      "metadata": {
        "colab": {
          "base_uri": "https://localhost:8080/"
        },
        "id": "NTS2NRFYCPNa",
        "outputId": "5cb858a2-bf39-4ac1-8224-67ea7b85c312"
      },
      "execution_count": 13,
      "outputs": [
        {
          "output_type": "execute_result",
          "data": {
            "text/plain": [
              "[2, 3]"
            ]
          },
          "metadata": {},
          "execution_count": 13
        }
      ]
    },
    {
      "cell_type": "code",
      "source": [
        "#Q6- complex number and representing in python\n",
        "\n",
        "\"\"\"Complex number is sum of a real and imaginary number represented by a simple equation for example: a+bi, where a is a real number and bi is imaginary number.\n",
        "the function complex(x,y) is used to convert real numbers x & y to a complex number x+yj\"\"\"\n",
        "\n",
        "a=3\n",
        "b=5\n",
        "c=complex(a,b)\n",
        "type(c)"
      ],
      "metadata": {
        "colab": {
          "base_uri": "https://localhost:8080/"
        },
        "id": "uDTXaeGCGSsp",
        "outputId": "8569f037-a038-4234-af91-ce3060531712"
      },
      "execution_count": 19,
      "outputs": [
        {
          "output_type": "execute_result",
          "data": {
            "text/plain": [
              "complex"
            ]
          },
          "metadata": {},
          "execution_count": 19
        }
      ]
    },
    {
      "cell_type": "code",
      "source": [
        "#Q7- correct way to declare a variable age and assign value 25 to it\n",
        "\n",
        "age = 25\n",
        "age"
      ],
      "metadata": {
        "colab": {
          "base_uri": "https://localhost:8080/"
        },
        "id": "x0yPylVvKzpA",
        "outputId": "a145607e-5065-4aac-d98c-1ad4c8e4b697"
      },
      "execution_count": 22,
      "outputs": [
        {
          "output_type": "execute_result",
          "data": {
            "text/plain": [
              "25"
            ]
          },
          "metadata": {},
          "execution_count": 22
        }
      ]
    },
    {
      "cell_type": "code",
      "source": [
        "#Q8-  Declare a varible price and assign 9.99 to it. What data type wdoes it belong to:\n",
        "\n",
        "price=9.99\n",
        "type(price)"
      ],
      "metadata": {
        "colab": {
          "base_uri": "https://localhost:8080/"
        },
        "id": "20jcABtaLk3G",
        "outputId": "e2cfa762-e115-44f0-830a-a2500d65758d"
      },
      "execution_count": 24,
      "outputs": [
        {
          "output_type": "execute_result",
          "data": {
            "text/plain": [
              "float"
            ]
          },
          "metadata": {},
          "execution_count": 24
        }
      ]
    },
    {
      "cell_type": "code",
      "source": [
        "#Q9-  create a variable name and print the value\n",
        "\n",
        "name= \"Swapnil Kshirsagar\"\n",
        "print(name)\n"
      ],
      "metadata": {
        "colab": {
          "base_uri": "https://localhost:8080/"
        },
        "id": "80j88ezTMBz1",
        "outputId": "fc669658-4e87-483f-ed13-848ed79b3902"
      },
      "execution_count": 27,
      "outputs": [
        {
          "output_type": "stream",
          "name": "stdout",
          "text": [
            "Swapnil Kshirsagar\n"
          ]
        }
      ]
    },
    {
      "cell_type": "code",
      "source": [
        "#Q10- from string \"Hello, World!\", extract the substring \"World\":\n",
        "\n",
        "str=\"Hello,World!\"\n",
        "str[6:11]"
      ],
      "metadata": {
        "colab": {
          "base_uri": "https://localhost:8080/",
          "height": 36
        },
        "id": "pERpbmkaMV4M",
        "outputId": "eeece0a3-35b6-4109-a255-9f21277a3038"
      },
      "execution_count": 29,
      "outputs": [
        {
          "output_type": "execute_result",
          "data": {
            "text/plain": [
              "'World'"
            ],
            "application/vnd.google.colaboratory.intrinsic+json": {
              "type": "string"
            }
          },
          "metadata": {},
          "execution_count": 29
        }
      ]
    },
    {
      "cell_type": "code",
      "source": [
        "#Q11- create a variable \"is_student\" and assign it a boolean value indicating if student or not\n",
        "\n",
        "is_student = False\n",
        "type(is_student)"
      ],
      "metadata": {
        "colab": {
          "base_uri": "https://localhost:8080/"
        },
        "id": "03ultFy3M8me",
        "outputId": "1bc5f587-5fab-401e-87d0-66dcb82b5141"
      },
      "execution_count": 33,
      "outputs": [
        {
          "output_type": "execute_result",
          "data": {
            "text/plain": [
              "bool"
            ]
          },
          "metadata": {},
          "execution_count": 33
        }
      ]
    },
    {
      "cell_type": "code",
      "source": [],
      "metadata": {
        "id": "-j4Zs9kVNUyH"
      },
      "execution_count": null,
      "outputs": []
    }
  ]
}