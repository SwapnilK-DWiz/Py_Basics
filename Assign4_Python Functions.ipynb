{
 "cells": [
  {
   "cell_type": "markdown",
   "id": "08a469fe-83de-4c9b-a434-d473ba6b50db",
   "metadata": {},
   "source": [
    "Assignement4- on python functions"
   ]
  },
  {
   "cell_type": "markdown",
   "id": "9b965fbb-0996-4602-85d7-3fe0a547ea55",
   "metadata": {},
   "source": [
    "Q1.Create a python program to sort the given list of tuples based on integer value using a\n",
    "lambda function."
   ]
  },
  {
   "cell_type": "code",
   "execution_count": 2,
   "id": "04c912c5-094a-4bd9-aedf-b53185a9e850",
   "metadata": {},
   "outputs": [],
   "source": [
    "lst_tup=[('Sachin Tendulkar', 34357), ('Ricky Ponting', 27483), ('Jack Kallis', 25534), ('Virat Kohli', 24936)]\n",
    "\n",
    "lst_tup.sort(key=lambda a:a[1])\n",
    "\n",
    "#The key based on which we want the list elements to be sorted is given as input with the help on lambda function "
   ]
  },
  {
   "cell_type": "code",
   "execution_count": 3,
   "id": "e00e128e-6a33-460c-b520-a4c37c8798e7",
   "metadata": {},
   "outputs": [
    {
     "data": {
      "text/plain": [
       "[('Virat Kohli', 24936),\n",
       " ('Jack Kallis', 25534),\n",
       " ('Ricky Ponting', 27483),\n",
       " ('Sachin Tendulkar', 34357)]"
      ]
     },
     "execution_count": 3,
     "metadata": {},
     "output_type": "execute_result"
    }
   ],
   "source": [
    "lst_tup"
   ]
  },
  {
   "cell_type": "markdown",
   "id": "bdcbf804-fdbd-498c-a7a4-ba418ecb2717",
   "metadata": {},
   "source": [
    "Q2. Write a Python Program to find the squares of all the numbers in the given list of integers using lambda and map functions.\n",
    "\n",
    "[1, 2, 3, 4, 5, 6, 7, 8, 9, 10]"
   ]
  },
  {
   "cell_type": "code",
   "execution_count": 4,
   "id": "092598aa-dcf2-47e3-9012-07935fb27360",
   "metadata": {},
   "outputs": [
    {
     "data": {
      "text/plain": [
       "[1, 4, 9, 16, 25, 36, 49, 64, 81, 100]"
      ]
     },
     "execution_count": 4,
     "metadata": {},
     "output_type": "execute_result"
    }
   ],
   "source": [
    "lst1=[1,2,3,4,5,6,7,8,9,10]\n",
    "\n",
    "list(map(lambda x: x**2,lst1))"
   ]
  },
  {
   "cell_type": "markdown",
   "id": "0567c052-5c65-46ca-825e-56d4136a26a5",
   "metadata": {},
   "source": [
    "* so the lambda function is calculating squares of integer inputs it gets and map function maps the sequence (from the iterator- list) one by one to the given function,written as 'map(function,iterator)'.\n",
    "\n",
    "* lambda is an anonymous function in python- it is small, one line function that does not have a name, can take multiple arguments but has only one function. They are used to create small, throw away functions that are used for a limited time"
   ]
  },
  {
   "cell_type": "markdown",
   "id": "3613956d-8e83-4034-b976-423575a82e16",
   "metadata": {},
   "source": [
    "Q3. Write a python program to convert the given list of integers into a tuple of strings. Use map and lambda functions\n",
    "\n",
    "Given String: [1, 2, 3, 4, 5, 6, 7, 8, 9, 10]\n",
    "\n",
    "Expected output: ('1', '2', '3', '4', '5', '6', '7', '8', '9', '10')"
   ]
  },
  {
   "cell_type": "code",
   "execution_count": 5,
   "id": "cf89e358-9c74-43ea-a5f4-28c9f7c8fcaf",
   "metadata": {},
   "outputs": [
    {
     "data": {
      "text/plain": [
       "['1', '2', '3', '4', '5', '6', '7', '8', '9', '10']"
      ]
     },
     "execution_count": 5,
     "metadata": {},
     "output_type": "execute_result"
    }
   ],
   "source": [
    "l= [1,2,3,4,5,6,7,8,9,10]\n",
    "\n",
    "list(map(lambda x : str(x), l))"
   ]
  },
  {
   "cell_type": "markdown",
   "id": "3557fbe2-6b09-49b8-979e-d7c9fdcf6c58",
   "metadata": {},
   "source": [
    "Q4. Write a python program using reduce function to compute the product of a list containing numbers\n",
    "from 1 to 25."
   ]
  },
  {
   "cell_type": "code",
   "execution_count": 16,
   "id": "16c7478f-62b4-4c3b-b2b1-821a87286e58",
   "metadata": {},
   "outputs": [],
   "source": [
    "l1= list(range(1,26))\n",
    "\n",
    "from functools import  reduce"
   ]
  },
  {
   "cell_type": "code",
   "execution_count": 17,
   "id": "bd52833a-7e1e-4bb2-b745-27568ad0baf7",
   "metadata": {},
   "outputs": [
    {
     "data": {
      "text/plain": [
       "15511210043330985984000000"
      ]
     },
     "execution_count": 17,
     "metadata": {},
     "output_type": "execute_result"
    }
   ],
   "source": [
    "reduce(lambda x,y: x*y, l1)"
   ]
  },
  {
   "cell_type": "markdown",
   "id": "3bcfee5b-ba26-4d08-b7fd-eef84b369f12",
   "metadata": {},
   "source": [
    "* reduce is a python function that takes an iterable as an argument and applies it to the function cummulatively to the elements of the iterable. The result is a single value which is the final answer of the reduction (since it reduces the final result to a single value)"
   ]
  },
  {
   "cell_type": "markdown",
   "id": "275078fd-6948-4a9e-a5ca-f3face135e32",
   "metadata": {},
   "source": [
    "Q5. Write a python program to filter the numbers in a given list that are divisible by 2 and 3 using the\n",
    "filter function.\n",
    "\n",
    "\n",
    "[2, 3, 6, 9, 27, 60, 90, 120, 55, 46]"
   ]
  },
  {
   "cell_type": "code",
   "execution_count": 18,
   "id": "60174cd8-b407-45fc-8f1a-5e2f9ccaf29c",
   "metadata": {},
   "outputs": [],
   "source": [
    "l2= [2, 3, 6, 9, 27, 60, 90, 120, 55, 46]\n"
   ]
  },
  {
   "cell_type": "code",
   "execution_count": 21,
   "id": "45d6144e-a2ec-4bf7-9a4d-214ce5ff457e",
   "metadata": {},
   "outputs": [
    {
     "data": {
      "text/plain": [
       "[2, 3, 6, 9, 27, 60, 90, 120, 46]"
      ]
     },
     "execution_count": 21,
     "metadata": {},
     "output_type": "execute_result"
    }
   ],
   "source": [
    "list(filter(lambda x : x%2==0 or x%3==0, l2))"
   ]
  },
  {
   "cell_type": "markdown",
   "id": "ff9a4f9a-a6be-4339-bf50-a15c8276c57f",
   "metadata": {},
   "source": [
    "* The filter() function returns an iterator where the items are filtered through a function passed as an argument to test if the item is accepted or not and an iterator i.e filter(function, iterator). As the name explains, used to filter through a sequence."
   ]
  },
  {
   "cell_type": "markdown",
   "id": "fc9cec9a-4b3b-4aee-bdaa-359c5b46643c",
   "metadata": {},
   "source": [
    "Q6. Write a python program to find palindromes in the given list of strings using lambda and filter\n",
    "function.\n",
    "\n",
    "\n",
    "['python', 'php', 'aba', 'radar', 'level']"
   ]
  },
  {
   "cell_type": "code",
   "execution_count": 26,
   "id": "56a98695-d689-4bc8-937b-0a36d9d151b3",
   "metadata": {},
   "outputs": [
    {
     "data": {
      "text/plain": [
       "['php', 'aba', 'radar', 'level']"
      ]
     },
     "execution_count": 26,
     "metadata": {},
     "output_type": "execute_result"
    }
   ],
   "source": [
    "str1=['python','php','aba','radar','level']\n",
    "\n",
    "list(filter(lambda x : x==\"\".join(reversed(x)),str1))"
   ]
  },
  {
   "cell_type": "markdown",
   "id": "0d38d77e-afcc-4c39-aefd-7fb4af8e657b",
   "metadata": {},
   "source": [
    "* it's important to note why we used \"\".join(reversed(x)) instead of just reverse, because reverse function returns an iterator that accesses the string sequence in the reverse order and does not return the string itself. Hence we are using .join without adding any spaces to return the reversed string as is. "
   ]
  },
  {
   "cell_type": "code",
   "execution_count": null,
   "id": "41d50dfa-6f58-45dd-bc1e-43bbb0f04d11",
   "metadata": {},
   "outputs": [],
   "source": []
  }
 ],
 "metadata": {
  "kernelspec": {
   "display_name": "Python 3 (ipykernel)",
   "language": "python",
   "name": "python3"
  },
  "language_info": {
   "codemirror_mode": {
    "name": "ipython",
    "version": 3
   },
   "file_extension": ".py",
   "mimetype": "text/x-python",
   "name": "python",
   "nbconvert_exporter": "python",
   "pygments_lexer": "ipython3",
   "version": "3.10.8"
  }
 },
 "nbformat": 4,
 "nbformat_minor": 5
}
