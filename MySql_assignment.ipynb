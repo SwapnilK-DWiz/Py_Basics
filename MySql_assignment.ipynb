{
  "nbformat": 4,
  "nbformat_minor": 0,
  "metadata": {
    "colab": {
      "provenance": []
    },
    "kernelspec": {
      "name": "python3",
      "display_name": "Python 3"
    },
    "language_info": {
      "name": "python"
    }
  },
  "cells": [
    {
      "cell_type": "markdown",
      "source": [
        "Q1. What is a database ? Differentiate between SQL and NoSQL database\n",
        "\n",
        "--\n",
        "\n",
        "Database is a storage of data. Simply the way we store an integer or a string in a variable, databases are storages to store data electronically. It's easier to store, extract, reuse or rewrite the data with databases.\n",
        "It stores and manages a large amount of data on a daily basis, which would not be possible using any other tool such as a spreadsheet.\n",
        "\n",
        "**Structure:** L databases use a structured query language, meaning use predefined schemas to determine the structure of your data before you work with it. Also, all of your data must follow the same structure.A NoSQL database has a dynamic schema for unstructured data. Data is stored in many ways which means it can be document-oriented, column-oriented, graph-based, or organized as a key-value store. This flexibility means that documents can be created without having a defined structure first.\n",
        "\n",
        "SQL stores data in a table based format, like spreadsheets and NoSQL databases are either key-value pairs, document-based, graph databases etc..\n",
        "\n",
        "**Scalability:** In almost all situations SQL databases are vertically scalable. This means that you can increase the load on a single server by increasing things like RAM, CPU, or SSD. But on the other hand, NoSQL databases are horizontally scalable. This means that you handle more traffic by sharding, or adding more servers in your NoSQL database. It is similar to adding more floors to the same building versus adding more buildings to the neighborhood. Thus NoSQL can ultimately become larger and more powerful, making these databases the preferred choice for large or ever-changing data sets (- from geeksforgeeks)"
      ],
      "metadata": {
        "id": "wI7dwABOup-f"
      }
    },
    {
      "cell_type": "markdown",
      "source": [
        "Q2. What is DDL? Explain why CREATE, DROP, ALTER, and TRUNCATE are used with an example.\n",
        "\n",
        "--\n",
        "\n",
        "DDL is a set of commands used to define database structure/schema, properties fo the data in database and stands for 'Data Defination Langauge'.\n",
        "\n",
        "These commands are used to define, modify, and manage the structure of database objects, such as tables, indexes, and constraints\n",
        "\n",
        "\n",
        "1.   CREATE : Used to create a new table or database:\n",
        "\n",
        "*e.g syntax: CREATE DATABSE db_name, CREATE TABLE student (Name var_char(20),Roll_No Int, Age Int)*\n",
        "\n",
        "\n",
        "2.   DROP : used to delete/remove the database objects from the SQL database. We can easily remove the entire table, view, or index from the database using this DDL command\n",
        "\n",
        "*e.g to drop database: DROP DATABASE db_name;*\n",
        "*to remove index: DROP INDEX index_name;*\n",
        "\n",
        "\n",
        "3.   ALTER : Used to modify an existing tables\n",
        "\n",
        "*e.g to add new field in existing table: ALTER TABLE table_name ADD column_name column_defination*\n",
        "\n",
        "*to drop field in existing table: ALTER TABLE table_name DROP column_name*\n",
        "\n",
        "\n",
        "4.   TRUNCATE: deletes or removes all the records from the tableand also removes the space allocated for storing the table records.\n",
        "\n",
        "*e.h to delete records of a table: TRUNCATE table_name;*\n",
        "\n"
      ],
      "metadata": {
        "id": "8RHdY74j1Tbo"
      }
    },
    {
      "cell_type": "markdown",
      "source": [
        "Q3. What is DML? Explain INSERT, UPDATE, and DELETE with an example.\n",
        "\n",
        "--\n",
        "\n",
        "DML is a set of commands used to easily access, store, modify and update, delete existing records from the database. It stands for Data Manipulation Langauge.\n",
        "\n",
        "1. INSERT: it allows to add records in database tables\n",
        "\n",
        "*e.g to add new columns: INSERT INTO table_name(col1, col2, col3)*\n",
        "\n",
        "\n",
        "2. UPDATE: to update or modify existing records in the database tables\n",
        "\n",
        "*e.g UPDATE table_name SET[discount=20] WHERE price>100*\n",
        "\n",
        "above query will set the value in discount column to 20 where the corresponding value of price exceeds 100. You can update multiple records and withput conditions as well.\n",
        "\n",
        "\n",
        "3. DELETE: as the keyword suggests, it is used remove single or multiple existing records from the database tables.\n",
        "\n",
        "important to note that it does not delete the stored data permanently from the database.\n",
        "\n",
        "*e.g DELETE FROM Table_Name WHERE condition;*  "
      ],
      "metadata": {
        "id": "i2qTtCiPkQKL"
      }
    },
    {
      "cell_type": "markdown",
      "source": [
        "Q4. What is DQL? Explain SELECT with an example.\n",
        "\n",
        "--\n",
        "\n",
        "DQL is a set of commands that are used to query data from databases.\n",
        "\n",
        "SELECT: it is the most used command that shows the records of a specific table, also facilitates filtering the records with a condition\n",
        "\n",
        "*e.g syntax: SELECT * from table_name;*\n",
        "\n",
        "above record displays the complete table with all ('*') the columns. You can add a set of specific columns instead to show, add a condition additionally that filters out the table\n",
        "\n",
        "*e.g SELECT Emp_id, Emp_name,Commissions from Cost_Items WHERE Commissions>2000;*"
      ],
      "metadata": {
        "id": "mAVFTDCImqEJ"
      }
    },
    {
      "cell_type": "markdown",
      "source": [
        "Q5. Explain Primary Key and Foreign Key.\n",
        "\n",
        "--\n",
        "\n",
        "Keys are one of the most important elements in relational databases, to uniquely identify data from a table or maintain relationship between two tables.\n",
        "\n",
        "Primary Key is used to identify data uniquely in a table, so two rows cannot have a same primary key. It can't be null. Primary key that already exists in a database is called a natural key and a user generated one is called surrogate key.\n",
        "\n",
        "Foregin key is a value that refers to primary key in another table. So it is a way to establish relationship between two tables. Unlike primary key, a table can have more than one foreign keys.\n",
        "\n",
        "We can't remove the parent table's primary key value, which is referenced with a foreign key column in the child table. In contrast, we can delete the child table's foreign key value even though they refer to the parent table's primary key.\n",
        "\n",
        "We can insert the values into the primary key column without any limitation. In contrast, we need to ensure that the value is present in a primary key column while inserting values in the foreign key table.\n",
        "\n",
        "![image.png](data:image/png;base64,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)\n"
      ],
      "metadata": {
        "id": "u-fCJKo4ovHX"
      }
    },
    {
      "cell_type": "markdown",
      "source": [
        "Q6. Write a python code to connect MySQL to python. Explain the cursor() and execute() method.\n"
      ],
      "metadata": {
        "id": "CJg0pJDmw4K_"
      }
    },
    {
      "cell_type": "markdown",
      "source": [
        "When we create apps, we need to store data somewhere. The way we store information in variable & files in python code, for enterprise grade applications we need to use databases\n",
        "\n",
        "Below code demonstartes establishing connection between SQL database and python application. hostname, user, password are connection parameters. We have first opened a connection to the MySQL server and stored the connection object in the variable mydb.\n",
        "\n",
        "We then create a new cursor, by default a MySQLCursor object, using the connection's cursor() method\n",
        "\n",
        "The cursor class Enables Python scripts to use a database session to run PostgreSQL commands. Cursor is an object that helps to execute the queries and fetch records from the database.\n",
        "\n",
        "A cursor can be created using the cursor() method of a connection object.\n",
        "\n",
        "'execute()' method executes a SQL query against the database"
      ],
      "metadata": {
        "id": "e6UnGAKppV7b"
      }
    },
    {
      "cell_type": "code",
      "source": [
        "import mysql.connector\n",
        "mydb = mysql.connector.connect(\n",
        "  host=\"localhost\",\n",
        "  user=\"abc\",\n",
        "  password=\"password\"\n",
        ")\n",
        "\n",
        "print(mydb)\n",
        "mycursor = mydb.cursor()\n",
        "mycursor.execute(\"SHOW DATABASES\")\n",
        "for x in mycursor:\n",
        "  print(x)"
      ],
      "metadata": {
        "id": "6n1VAjY91OKb"
      },
      "execution_count": null,
      "outputs": []
    },
    {
      "cell_type": "markdown",
      "source": [
        "Q7. Give the order of execution of SQL clauses in an SQL query.\n",
        "\n",
        "--\n",
        "\n",
        "SQL order of execution is the order in which clauses of a query are evaluated. A clear understanding of the order will help optimize queries to run faster and diagnose the errors.\n",
        "\n",
        "Order\n",
        "\n",
        "\n",
        "1.   FROM: this clause helps select and join tables. So in queries with joins, the first thing to execute is joins\n",
        "\n",
        "2.   WHERE: it filters out the newly joined data or the base data with the condition in the query\n",
        "A common mistake in SQL is trying to use a where statement to filter aggregations, which will violate SQL order of execution rules. This is because when the where statement is being evaluated, the “group by” statement has yet to be executed and aggregate values are unknown. Thus, the following query will fail:\n",
        "\n",
        "3.  GROUP BY: it aggregates/collapses fields of the result from WHERE clause into their distinct values. It is used with aggreagtions like sum() or count() to show one value per grouped field.\n",
        "e.g *Group by quarter* will put all the numeric values corresponding to same quarters in the same row summed up.\n",
        "\n",
        "4.  HAVING: it filters the aggregated data and solves the problem that could arise if you use WHERE on a GROUP BY to filter put the data.\n",
        "\n",
        "5.  SELECT: select returns the data, allows to select the columns to be shown\n",
        "\n",
        "6.  order by: sorts the selected columns you want to display based on a order of a specific column. e.g ORDER BY profit will sort the data in ascending order of the profit (default is ascending) or can be written as ORDER BY profit DESC\n",
        "\n",
        "7.  LIMIT: is a way to get a snapshot of the final data by limiting the count of rows displayed than all"
      ],
      "metadata": {
        "id": "EyU1sbbceMZj"
      }
    },
    {
      "cell_type": "code",
      "source": [],
      "metadata": {
        "id": "Jk5dAueFlLkT"
      },
      "execution_count": null,
      "outputs": []
    }
  ]
}