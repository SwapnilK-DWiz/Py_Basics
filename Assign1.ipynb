{
 "cells": [
  {
   "cell_type": "markdown",
   "id": "e817ff77-192c-44ff-8812-b91aa0e3fe6d",
   "metadata": {},
   "source": [
    "Assignment 1 - 09 May"
   ]
  },
  {
   "cell_type": "code",
   "execution_count": 2,
   "id": "4d719b00-e2d3-4fa8-9c58-53841e6aad09",
   "metadata": {},
   "outputs": [],
   "source": [
    "#Q1\n",
    "\n",
    "N = 'Swapnil'\n",
    "marks = [70,80,90]\n",
    "Perc = 80.0\n",
    "sub = ('A', 'B', 'C')"
   ]
  },
  {
   "cell_type": "code",
   "execution_count": 3,
   "id": "b83f4efc-25b6-4f44-b8d1-0dfa96c0c381",
   "metadata": {},
   "outputs": [
    {
     "name": "stdout",
     "output_type": "stream",
     "text": [
      "var1 is <class 'str'>\n",
      "var2 is <class 'str'>\n",
      "var3 is <class 'list'>\n",
      "var4 is <class 'float'>\n"
     ]
    }
   ],
   "source": [
    "#Q2\n",
    "\n",
    "var1 = ' '\n",
    "var2 = '[ DS , ML , Python]'\n",
    "var3 = [ 'DS' , 'ML' , 'Python' ]\n",
    "var4 = 1.\n",
    "\n",
    "print(\"var1 is\",type(var1))\n",
    "print(\"var2 is\",type(var2))\n",
    "print(\"var3 is\",type(var3))\n",
    "print(\"var4 is\",type(var4))\n"
   ]
  },
  {
   "cell_type": "code",
   "execution_count": 14,
   "id": "4271099c-eafc-4dd9-a9ee-d3b1d2b3fa39",
   "metadata": {},
   "outputs": [
    {
     "name": "stdout",
     "output_type": "stream",
     "text": [
      "5.0\n",
      "1\n",
      "3\n",
      "16\n"
     ]
    }
   ],
   "source": [
    "#Q3\n",
    "\n",
    "# / is a division math operator\n",
    "print(10/2)\n",
    "\n",
    "# % is a modulus operator and returns remainder value\n",
    "print(10%3)\n",
    "\n",
    "# // is floor division operator, returns the result rounded to the nearest whole number\n",
    "print(15//4)\n",
    "\n",
    "# ** is exponetiation operator used to raise first number to the power of second\n",
    "print(2**4)"
   ]
  },
  {
   "cell_type": "code",
   "execution_count": 21,
   "id": "e46019a6-7533-482d-bafd-c26ce4ae8b3a",
   "metadata": {},
   "outputs": [
    {
     "name": "stdout",
     "output_type": "stream",
     "text": [
      "1 is a <class 'int'>\n",
      "2 is a <class 'int'>\n",
      "3 is a <class 'str'>\n",
      "str is a <class 'str'>\n",
      "4.0 is a <class 'float'>\n",
      "[8, 8] is a <class 'list'>\n",
      "(11, 11) is a <class 'tuple'>\n",
      "t1 is a <class 'str'>\n",
      "True is a <class 'bool'>\n"
     ]
    }
   ],
   "source": [
    "#Q4\n",
    "\n",
    "test_list1=[1,2,'3','str',4.0,[8,8],(11,11),'t1',True]\n",
    "for i in test_list:\n",
    "    print(i,'is a',type(i))\n"
   ]
  },
  {
   "cell_type": "code",
   "execution_count": 2,
   "id": "97b0e0e8-ee5a-40d5-9a56-d8a1df7b4e59",
   "metadata": {},
   "outputs": [
    {
     "name": "stdout",
     "output_type": "stream",
     "text": [
      "A is purely divisible by B 9.0 times\n"
     ]
    }
   ],
   "source": [
    "#Q5\n",
    "\n",
    "A = 27\n",
    "B = 3\n",
    "while A%B==0:\n",
    "    print(\"A is purely divisible by B\",A/B,\"times\")\n",
    "    break  \n",
    "    "
   ]
  },
  {
   "cell_type": "code",
   "execution_count": 10,
   "id": "243fccfd-0638-4a54-80c6-a98423bd553d",
   "metadata": {},
   "outputs": [
    {
     "name": "stdout",
     "output_type": "stream",
     "text": [
      "10 is not divisible by 3\n",
      "11 is not divisible by 3\n",
      "12 is divisible by 3\n",
      "13 is not divisible by 3\n",
      "14 is not divisible by 3\n",
      "15 is divisible by 3\n",
      "16 is not divisible by 3\n",
      "17 is not divisible by 3\n",
      "18 is divisible by 3\n",
      "19 is not divisible by 3\n",
      "20 is not divisible by 3\n",
      "21 is divisible by 3\n",
      "22 is not divisible by 3\n",
      "23 is not divisible by 3\n",
      "24 is divisible by 3\n",
      "25 is not divisible by 3\n",
      "26 is not divisible by 3\n",
      "27 is divisible by 3\n",
      "28 is not divisible by 3\n",
      "29 is not divisible by 3\n",
      "30 is divisible by 3\n",
      "31 is not divisible by 3\n",
      "31 is not divisible by 3\n",
      "33 is divisible by 3\n",
      "34 is not divisible by 3\n"
     ]
    }
   ],
   "source": [
    "#Q6\n",
    "\n",
    "test_list2 = [10,11,12,13,14,15,16,17,18,19,\n",
    "              20,21,22,23,24,25,26,27,28,29,\n",
    "              30,31,31,33,34]\n",
    "for i in test_list2:\n",
    "    if i%3==0:\n",
    "        print(i,\"is divisible by 3\")\n",
    "    else:\n",
    "        print(i,\"is not divisible by 3\")\n"
   ]
  },
  {
   "cell_type": "code",
   "execution_count": 9,
   "id": "944fb877-2013-4d35-b0e2-240a5326f4d9",
   "metadata": {},
   "outputs": [
    {
     "ename": "TypeError",
     "evalue": "'str' object does not support item assignment",
     "output_type": "error",
     "traceback": [
      "\u001b[0;31m---------------------------------------------------------------------------\u001b[0m",
      "\u001b[0;31mTypeError\u001b[0m                                 Traceback (most recent call last)",
      "Cell \u001b[0;32mIn[9], line 15\u001b[0m\n\u001b[1;32m     11\u001b[0m \u001b[38;5;124;03m'''Imputable data types do not allow any aletrations once created (immutable). String is a immputable data type,\u001b[39;00m\n\u001b[1;32m     12\u001b[0m \u001b[38;5;124;03mexample below'''\u001b[39;00m\n\u001b[1;32m     14\u001b[0m ex \u001b[38;5;241m=\u001b[39m\u001b[38;5;124m'\u001b[39m\u001b[38;5;124mNOCHANGE\u001b[39m\u001b[38;5;124m'\u001b[39m\n\u001b[0;32m---> 15\u001b[0m \u001b[43mex\u001b[49m\u001b[43m[\u001b[49m\u001b[38;5;241;43m1\u001b[39;49m\u001b[43m]\u001b[49m\u001b[38;5;241m=\u001b[39m\u001b[38;5;124m'\u001b[39m\u001b[38;5;124mL\u001b[39m\u001b[38;5;124m'\u001b[39m\n",
      "\u001b[0;31mTypeError\u001b[0m: 'str' object does not support item assignment"
     ]
    }
   ],
   "source": [
    "#Q7\n",
    "\n",
    "'''Mutable are data types that are mutable/changeable, whose values can be altered.List is one such data type \n",
    "whose values can be altered. in example below we are adding and updating a new value to an existing list object'''\n",
    "\n",
    "list3 =[1,2,3,4,5]\n",
    "list3.append(100)\n",
    "list3[2]=200\n",
    "list3\n",
    "\n",
    "'''Imputable data types do not allow any aletrations once created(immutable).String is a immputable data type,\n",
    "example below and any attempt to alter some of the characters throws an error.Another immutable data type is Tuples'''\n",
    "\n",
    "ex ='NOCHANGE'\n",
    "ex[1]='L'"
   ]
  }
 ],
 "metadata": {
  "kernelspec": {
   "display_name": "Python 3 (ipykernel)",
   "language": "python",
   "name": "python3"
  },
  "language_info": {
   "codemirror_mode": {
    "name": "ipython",
    "version": 3
   },
   "file_extension": ".py",
   "mimetype": "text/x-python",
   "name": "python",
   "nbconvert_exporter": "python",
   "pygments_lexer": "ipython3",
   "version": "3.10.8"
  }
 },
 "nbformat": 4,
 "nbformat_minor": 5
}
