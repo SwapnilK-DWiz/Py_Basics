{
  "nbformat": 4,
  "nbformat_minor": 0,
  "metadata": {
    "colab": {
      "provenance": []
    },
    "kernelspec": {
      "name": "python3",
      "display_name": "Python 3"
    },
    "language_info": {
      "name": "python"
    }
  },
  "cells": [
    {
      "cell_type": "markdown",
      "source": [
        "Q1. What is an API? Give an example, where an API is used in real life.\n",
        "\n",
        "--\n",
        "\n",
        "API acts as an intermediary between two applicationsa dn allows them to interact. It stands for Application Programming Interface.\n",
        "\n",
        "As the world is moving towards distributed systems, there continuous need for sharing data, resources or even softwares across different applications - without compromising on privacy, and maintain a layer of abstraction (user does not need to know internal implementation of the code) which makes them universally understandable, easy to use. This what API facilitates.\n",
        "\n",
        "Consider mobile banking applications where a user enters credentials and goes on to access account, do a transaction - here the mobile banking application acts as a client which is just a front end and the account information is in a database with a different server (back end). What allows this client to communicate with the server is the interface - API. These applications could be written in different langauges, what's interesting is API allows this dynamic communication to take place seamlessly.\n",
        "\n",
        "APIs are called using endpoints- which is a simple URL.\n",
        "\n",
        "Real life uses cases are banking/online payment apps, e-commerce apps, gmail/google cloud, social media platforms etc"
      ],
      "metadata": {
        "id": "oILYDHU0r7nk"
      }
    },
    {
      "cell_type": "markdown",
      "source": [
        "Q2. Give advantages and disadvantages of using API.\n",
        "\n",
        "--\n",
        "\n",
        "Advantages:\n",
        "*   a disconnected front and back end: it allows developers to decouple the front end and back end. This works as both communicate via the API rather than directly with each other, thereby eliminating any dependencies they would have under a standard model. As a result, each end can be built completely independently, using its own tools and technologies depending on its individual requirements.\n",
        "*   Improved accessiblity: When APIs are placed front and center of the architecture strategy, it's much easier to ensure that everything else that surrounds these tools is compatible and accessible. Because components are built with the needs of the API in mind, there should be fewer instances where, for example, one part of a system formats data in a way that doesn't easily fit into other elements, which would otherwise require a costly and time-consuming workaround.\n",
        "*   Faster, more agile development: Another consequence of separating key front-end and back-end systems is that they can be developed independently without having to worry about issues such as how they will work together. This allows development teams to take a more flexible approach as they only have to concern themselves with maintaining compatibility with the API.\n",
        "*   Easier scalability: The modular approach that API-led architecture provides also gives companies the ability to plug in services as and when they're required and remove them in the same way, without needing to make any change to the app itself. It's therefore easier to scale solutions up or down to react to fluctuations in demand or add new functionality in response to user requirements.\n",
        "\n",
        "Disadvantages:\n",
        "*   Added management burden: The number of APIs used within businesses can quickly add up. Additionally, these will all need to be monitored and maintained, which can be a significant burden if done manually. Therefore, investing in API automation will be essential if firms are to cope with this sprawl. At the same time, APIs will require additional resources to support them, which will mean more investment in infrastructure.\n",
        "*   Security considerations: As APIs become more commonplace across all aspects of business, this will naturally lead to them coming to the attention of hackers. Unsecured APIs can offer another attack vector to criminals.\n",
        "\n",
        "\n",
        "\n",
        "\n",
        "\n",
        "\n"
      ],
      "metadata": {
        "id": "36qcbAlOwSLx"
      }
    },
    {
      "cell_type": "markdown",
      "source": [
        "Q3. What is a Web API? Differentiate between API and Web API.\n",
        "\n",
        "--\n",
        "\n",
        "Web API: It is a type of API, basically an open source framework that is used to write HTTP APIs. It refers to API over web which can be accessed using HTTP protocol. Important to note that it is a concept and not a technology.\n",
        "\n",
        "Web APIs can be RESTful or not.Examples of web API: Google APIs like google analytics API, youtube API etc. There are other social media APIs like twitter API, Facebook's API etc. Web APIs are utilized to access data on remote servers more efficiently.\n",
        "\n",
        "Web API allows access to service data from web browsers, mobile apps, and other devices. Web API aids in the development of lightweight, maintainable web services."
      ],
      "metadata": {
        "id": "zkCBdt-MzulC"
      }
    },
    {
      "cell_type": "markdown",
      "source": [
        "Q4. Explain REST and SOAP Architecture. Mention shortcomings of SOAP.\n",
        "\n",
        "--\n",
        "\n",
        "Both the architectures are used to build API and are just different approaches to API design.\n",
        "\n",
        "REST is set of principles for building web services that use HTTP as communications protocol. A good example is a content management system (CMS), which uses standard HTTP methods—POST, GET, PUT, and DELETE—to create and maintain entities.\n",
        "\n",
        "A RESTful approach is the better option for applications that require CRUD operations (create, read, update, and delete). Its ability to cache responses makes it a good fit for high-demand applications where certain requests are made frequently. REST is very popular, and companies that use a RESTful design for public APIs are able to cater to a wider range of developers who have dealt with REST before.\n",
        "\n",
        "Simple Object Access Protocol (SOAP) is a protocol for exchanging information between systems over the Internet, using XML as its message format. Unlike REST, SOAP follows a very strict structure. It uses standardized contracts such as Web Service Definition Language (WSDL) to specify the functionalities of an API.\n",
        "\n",
        "Systems that have strict API security requirements and regulations may benefit from a SOAP-based approach because of its built-in security measures. For instance, its support for WS-Security and strongly-typed contracts make SOAP a better fit for systems that send and receive highly sensitive data, such as financial and healthcare information.\n",
        "\n",
        "Shortcomings:\n",
        "\n",
        "Complex: SOAP can introduce complexity into a system due to its strongly typed and extensible nature. REST offers a far simpler approach.\n",
        "\n",
        "Less performant: SOAP messages can be quite large due to their verbose XML-based structure, which can lead to greater bandwidth usage and slower performance\n",
        "\n"
      ],
      "metadata": {
        "id": "MiWxzzvGj8dr"
      }
    },
    {
      "cell_type": "markdown",
      "source": [
        "Q5. Differentiate between REST and SOAP.\n",
        "\n",
        "--\n",
        "\n",
        "\n",
        "Complexity: SOAP can introduce complexity into a system due to its strongly typed and extensible nature. REST offers a far simpler approach\n",
        "\n",
        "Data transfer: REST transports data in JSON generally. Becuase REST is stateless model, it does not enforce message format as XML or JSON etc. SOAP has a standard XML format.\n",
        "\n",
        "Applications: SOAP is designed with large enterprise applications in mind while REST with mobile devices in mind\n",
        "\n",
        "Security: Systems that have strict API security requirements and regulations may benefit from a SOAP-based approach because of its built-in security measures. REST is very popular, and companies that use a RESTful design for public APIs are able to cater to a wider range of developers who have dealt with REST before."
      ],
      "metadata": {
        "id": "P2Z6KByEmkvx"
      }
    },
    {
      "cell_type": "code",
      "source": [],
      "metadata": {
        "id": "dCeAPVrKwRZt"
      },
      "execution_count": null,
      "outputs": []
    }
  ]
}