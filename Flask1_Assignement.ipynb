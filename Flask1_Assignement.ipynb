{
  "nbformat": 4,
  "nbformat_minor": 0,
  "metadata": {
    "colab": {
      "provenance": []
    },
    "kernelspec": {
      "name": "python3",
      "display_name": "Python 3"
    },
    "language_info": {
      "name": "python"
    }
  },
  "cells": [
    {
      "cell_type": "markdown",
      "source": [
        "Q1. What is Flask Framework? What are the advantages of Flask Framework?\n",
        "\n",
        "\n",
        "--\n",
        "\n",
        "Flask is a web framework (also a python library) that's used to develop web applications easily. It has a small and easy-to-extend core.\n",
        "\n",
        "Web framework is basically a collection of libraries and modules that enable web application developers to write applications without worrying about low-level details such as protocol, thread management, and so on.\n",
        "\n",
        "It does have many cool features like url routing, template engine.\n",
        "\n",
        "Flask is based on the Werkzeg WSGI toolkit and the Jinja2 template engine.\n",
        "\n",
        "WSGI: Web Server Gateway Interface (WSGI) has been used as a standard for Python web application development and is the specification of a common interface between web servers and web applications.\n",
        "\n",
        "Werkzeug: is a WSGI toolkit that implements requests, response objects, and utility functions. This enables a web frame to be built on it. The Flask framework uses Werkzeg as one of its bases.\n",
        "\n",
        "\n",
        "jinja2: is a popular template engine for Python.A web template system combines a template with a specific data source to render a dynamic web page.\n",
        "\n",
        "This allows you to pass Python variables into HTML templates.\n",
        "\n",
        "Advantages:\n",
        "\n",
        "*   Flask is very Pythonic. It’s easy to get started with Flask, because it doesn’t have a huge learning curve.\n",
        "*   On top of that it’s very explicit, which increases readability. To create the “Hello World” app, you only need a few lines of code.\n",
        "*   It's a microframework,meaning a lightweight framework that offers hassle-free development.\n",
        "*   Easily scalable for the applications including complex ones."
      ],
      "metadata": {
        "id": "CCiTWBPwqA7B"
      }
    },
    {
      "cell_type": "markdown",
      "source": [
        "Q2. Create a simple Flask application to display ‘Hello World!!’. Attach the screenshot of the output in Jupyter Notebook.\n",
        "\n",
        "--\n",
        "\n",
        "we start by importing the Flask class from the flask module.\n",
        "\n",
        "Once we have the Flask class, we can create the application instance and store it in a variable called app.\n",
        "\n",
        "The Flask class takes in a __name__ argument, which is a special Python variable denoting the name of the current module containing the Flask application instance:\n",
        "\n",
        "Using the application instance, we have access to its various methods and decorators, which we can use to define routes, handle requests, and perform other tasks in our web application.\n",
        "\n",
        "However, for this example, we’ll be interested in the route() decorator, a special method which, when applied to a function in Flask, turns it into a view function that will handle web requests. It takes in a mandatory URL pattern and optional HTTP methods as its arguments.\n",
        "\n",
        "When we access the URL, Flask will trigger the hello_world() function that will return the string and it will be displayed in the browser.\n",
        "\n",
        "To ensure the application runs when this module is invoked with Python in the command line, add the if __name__ check:"
      ],
      "metadata": {
        "id": "yws_W5WTs5jL"
      }
    },
    {
      "cell_type": "code",
      "source": [
        "from flask import Flask\n",
        "\n",
        "app = Flask(__name__)\n",
        "\n",
        "@app.route(\"/\")\n",
        "def hello_world():\n",
        "    return \"<h1>Hello, World!</h1>\"\n",
        "\n",
        "if __name__==\"__main__\":\n",
        "    app.run(host=\"0.0.0.0\")"
      ],
      "metadata": {
        "id": "VWp2hts8Dggr"
      },
      "execution_count": null,
      "outputs": []
    },
    {
      "cell_type": "markdown",
      "source": [
        "Output:\n",
        "\n",
        "![Flast output_HelloWorld.PNG](data:image/png;base64,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)"
      ],
      "metadata": {
        "id": "RaROh5JqD7ho"
      }
    },
    {
      "cell_type": "markdown",
      "source": [
        "Q3. What is App routing in Flask? Why do we use app routes?\n",
        "\n",
        "--\n",
        "\n",
        "App routing is a technique to expose a function to URLs.\n",
        "\n",
        "The Latest Web frameworks use the routing technique to help users remember application URLs. It is helpful to access the desired page directly without navigating from the home page.\n",
        "\n",
        "There are two ways through which we can bind the URLs to their associated function:-\n",
        "\n",
        "1. Using route() decorator\n",
        "\n",
        "2. Using add_url_rule() function\n",
        "\n",
        "Routing in Flask determines how incoming requests are handled based on the URL a user has requested. Flask uses the route() decorator method of the Flask application instance to define routes and then bind them to appropriate view functions"
      ],
      "metadata": {
        "id": "1G5TN8SpEpQZ"
      }
    },
    {
      "cell_type": "markdown",
      "source": [
        "Q4. Create a “/welcome” route to display the welcome message “Welcome to ABC Corporation” and a “/”\n",
        "route to show the following details:\n",
        "\n",
        "Company Name: ABC Corporation\n",
        "\n",
        "Location: India\n",
        "\n",
        "Contact Detail: 999-999-9999"
      ],
      "metadata": {
        "id": "TXHLnSQBNzdo"
      }
    },
    {
      "cell_type": "code",
      "source": [
        "from flask import Flask\n",
        "\n",
        "app = Flask(__name__)\n",
        "\n",
        "@app.route(\"/\")\n",
        "def address():\n",
        "    return \"<h1>Company Name: ABC Corporation</h1> <h1>Location: India</h1> <h1>Contac t Detail: 999-999-9999</h1>\"\n",
        "\n",
        "@app.route(\"/welcome\")\n",
        "def welcome():\n",
        "    return \"<h1>Welcome to ABC Corporation</h1>\"\n",
        "\n",
        "if __name__==\"__main__\":\n",
        "    app.run(host=\"0.0.0.0\")"
      ],
      "metadata": {
        "id": "GFMKZU6FEhAV"
      },
      "execution_count": null,
      "outputs": []
    },
    {
      "cell_type": "markdown",
      "source": [
        "output:\n",
        "\n",
        "![Flask_output-welcome.PNG](data:image/png;base64,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)\n",
        "\n",
        "\n",
        "![flask_output-address.PNG](data:image/png;base64,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)"
      ],
      "metadata": {
        "id": "D6mq9s52QlAu"
      }
    },
    {
      "cell_type": "markdown",
      "source": [
        "Q5. What function is used in Flask for URL Building? Write a Python code to demonstrate the working of the url_for() function.\n",
        "\n",
        "--\n",
        "\n",
        "URL building is the process of generating URLs dynamically within your Flask web application.\n",
        "\n",
        "It allows you to create links that point to different routes or views in your Flask application, based on various conditions or parameters.\n",
        "\n",
        "Flask URL building is crucial for creating dynamic and interactive web applications. It allows you to generate URLs dynamically based on user input, data from your application, or other conditions.\n",
        "\n",
        "Dynamic URLs enable users to navigate between different pages or resources in your application and perform actions such as submitting forms, viewing details, or updating data. Flask URL building also helps in improving the user experience by creating clean and human-readable URLs that are SEO-friendly and easy to understand.\n",
        "\n",
        "The url_for() is a built-in Flask function that allows you to generate URLs dynamically for different routes or views in your Flask application. The url_for() function takes the name of the route or view as an argument and returns a URL that points to that route.\n",
        "\n",
        "Within the if __name__ == '__main__': block, a test request context is created using app.test_request_context() to allow access to the url_for() function. It tells Flask to behave as if it’s handling a request even while we use the shell."
      ],
      "metadata": {
        "id": "FIxaffhVQ3fj"
      }
    },
    {
      "cell_type": "code",
      "source": [
        "from flask import Flask, url_for"
      ],
      "metadata": {
        "id": "fmS0_XhfQrRy"
      },
      "execution_count": 16,
      "outputs": []
    },
    {
      "cell_type": "code",
      "source": [
        "app = Flask(__name__)\n",
        "\n",
        "\n",
        "@app.route(\"/address\")\n",
        "def address():\n",
        "    return \"<h1>Company Name: ABC Corporation</h1> <h1>Location: India</h1> <h1>Contact Detail: 999-999-9999</h1>\"\n",
        "\n",
        "@app.route(\"/welcome\")\n",
        "def welcome(name):\n",
        "    return f\"<h1>Welcome {name} to ABC Corporation</h1>\"\n",
        "\n",
        "if __name__==\"__main__\":\n",
        "   with app.test_request_context():\n",
        "    address_url = url_for('address')\n",
        "    welcome_url = url_for('welcome', username='Swapnil')\n",
        "\n",
        "    print(\"Generated URLs:\")\n",
        "    print(\"address URL:\", address_url)\n",
        "    print(\"welcome URL:\", welcome_url)\n"
      ],
      "metadata": {
        "colab": {
          "base_uri": "https://localhost:8080/"
        },
        "id": "mXMVCk9onAzL",
        "outputId": "0aecd63b-961b-4649-a5c1-95a045153a70"
      },
      "execution_count": 17,
      "outputs": [
        {
          "output_type": "stream",
          "name": "stdout",
          "text": [
            "Generated URLs:\n",
            "address URL: /address\n",
            "welcome URL: /welcome?username=Swapnil\n"
          ]
        }
      ]
    },
    {
      "cell_type": "code",
      "source": [],
      "metadata": {
        "colab": {
          "base_uri": "https://localhost:8080/",
          "height": 228
        },
        "id": "TQWNfs0xnCfg",
        "outputId": "ab0f3b6c-49c9-4225-b41f-3b572484846a"
      },
      "execution_count": 8,
      "outputs": [
        {
          "output_type": "stream",
          "name": "stdout",
          "text": [
            "Generated URLs:\n"
          ]
        },
        {
          "output_type": "error",
          "ename": "NameError",
          "evalue": "ignored",
          "traceback": [
            "\u001b[0;31m---------------------------------------------------------------------------\u001b[0m",
            "\u001b[0;31mNameError\u001b[0m                                 Traceback (most recent call last)",
            "\u001b[0;32m<ipython-input-8-d083aacd9e3e>\u001b[0m in \u001b[0;36m<cell line: 2>\u001b[0;34m()\u001b[0m\n\u001b[1;32m      1\u001b[0m \u001b[0mprint\u001b[0m\u001b[0;34m(\u001b[0m\u001b[0;34m\"Generated URLs:\"\u001b[0m\u001b[0;34m)\u001b[0m\u001b[0;34m\u001b[0m\u001b[0;34m\u001b[0m\u001b[0m\n\u001b[0;32m----> 2\u001b[0;31m \u001b[0mprint\u001b[0m\u001b[0;34m(\u001b[0m\u001b[0;34m\"address URL:\"\u001b[0m\u001b[0;34m,\u001b[0m \u001b[0maddress_url\u001b[0m\u001b[0;34m)\u001b[0m\u001b[0;34m\u001b[0m\u001b[0;34m\u001b[0m\u001b[0m\n\u001b[0m\u001b[1;32m      3\u001b[0m \u001b[0mprint\u001b[0m\u001b[0;34m(\u001b[0m\u001b[0;34m\"welcome URL:\"\u001b[0m\u001b[0;34m,\u001b[0m \u001b[0mwelcome_url\u001b[0m\u001b[0;34m)\u001b[0m\u001b[0;34m\u001b[0m\u001b[0;34m\u001b[0m\u001b[0m\n",
            "\u001b[0;31mNameError\u001b[0m: name 'address_url' is not defined"
          ]
        }
      ]
    },
    {
      "cell_type": "code",
      "source": [],
      "metadata": {
        "id": "S4dHDEb1sN4d"
      },
      "execution_count": null,
      "outputs": []
    }
  ]
}