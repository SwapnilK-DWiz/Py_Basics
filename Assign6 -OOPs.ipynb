{
 "cells": [
  {
   "cell_type": "markdown",
   "id": "d7e8946c-d19a-4e50-b01a-4fe52964c50b",
   "metadata": {},
   "source": [
    "Q1, Create a vehicle class with an init method having instance variables as name_of_vehicle, max_speed and average_of_vehicle."
   ]
  },
  {
   "cell_type": "code",
   "execution_count": 2,
   "id": "b2eed3f0-3e62-481e-a12c-29594f3c7741",
   "metadata": {},
   "outputs": [],
   "source": [
    "class vehicle:\n",
    "  def __init__(self,name,speed,avg):\n",
    "    self.name_of_vehicle=name\n",
    "    self.max_speed=speed\n",
    "    self.average_of_vehicle=avg\n",
    "    "
   ]
  },
  {
   "cell_type": "markdown",
   "id": "1719cefb-b723-49d8-94c0-a9a8fb347ab4",
   "metadata": {},
   "source": [
    "Q2. Create a child class car from the vehicle class created in Que 1, which will inherit the vehicle class.\n",
    "Create a method named seating_capacity which takes capacity as an argument and returns the name of\n",
    "the vehicle and its seating capacity."
   ]
  },
  {
   "cell_type": "code",
   "execution_count": 3,
   "id": "1c545967-1dc9-449e-9f49-9ddc5e810c92",
   "metadata": {},
   "outputs": [
    {
     "data": {
      "text/plain": [
       "('Astor', 5)"
      ]
     },
     "execution_count": 3,
     "metadata": {},
     "output_type": "execute_result"
    }
   ],
   "source": [
    "class car(vehicle):\n",
    "  def __init__(self,name,speed,avg):\n",
    "    super().__init__(name,speed,avg)\n",
    "\n",
    "  def seating_capacity(self,capacity):\n",
    "    self.capacity=capacity\n",
    "    return self.name_of_vehicle,self.capacity\n",
    "\n",
    "obj=car('Astor',200,25)\n",
    "obj.seating_capacity(5)"
   ]
  },
  {
   "cell_type": "markdown",
   "id": "427f9a8d-33e2-4e8c-84e9-4bf11c92aa13",
   "metadata": {},
   "source": [
    "Q3. What is multiple inheritance? Write a python code to demonstrate multiple inheritance"
   ]
  },
  {
   "cell_type": "code",
   "execution_count": 5,
   "id": "caf0a5ea-679a-4f1a-8f9e-1e2de5200a35",
   "metadata": {},
   "outputs": [
    {
     "name": "stdout",
     "output_type": "stream",
     "text": [
      "Tata is a car manufacturer\n",
      "Kia is a car manufacturer\n",
      "Both Tata and Kia manufacture SUVs\n"
     ]
    }
   ],
   "source": [
    "#Multiple inheritance: When a class is derived from multiple base/parent classes\n",
    "\n",
    "class maker1:\n",
    "  def maker_name1(self):\n",
    "    print('Tata is a car manufacturer')\n",
    "\n",
    "class maker2:\n",
    "  def maker_name2(self):\n",
    "    print('Kia is a car manufacturer')\n",
    "\n",
    "class suv(maker1,maker2):\n",
    "  def show_model(self):\n",
    "    print('Both Tata and Kia manufacture SUVs')\n",
    "\n",
    "mult=suv()\n",
    "mult.maker_name1()\n",
    "mult.maker_name2()\n",
    "mult.show_model()"
   ]
  },
  {
   "cell_type": "markdown",
   "id": "66a05738-40fb-4e86-9af9-9a3a31c10748",
   "metadata": {},
   "source": [
    "Q4. What are getter and setter in python? Create a class and create a getter and a setter method in this class.\n",
    "\n",
    "Ans-In python, a lot of times we encapusulate the important attribitutes of the class so that it is not accessible to the user of an object.\n",
    "\n",
    "While this does restrict any changes to be done by user to this attributes, it limits access to the attirbutes completely. Say we want user to not have a direct access but be able to get and change these attributes given it satisfies a condition - that's where getter and setter functions come handy.\n",
    "\n",
    "attributes of a class can be accessed by 2 ways:\n",
    "\n",
    "directly an instance of the class\n",
    "using methods\n",
    "getter() - returns the attributes\n",
    "\n",
    "setter() - allows to mutate the value of attributes"
   ]
  },
  {
   "cell_type": "code",
   "execution_count": 45,
   "id": "c3ec18cc-48b9-4451-9377-5a3728a92781",
   "metadata": {},
   "outputs": [
    {
     "data": {
      "text/plain": [
       "'123'"
      ]
     },
     "execution_count": 45,
     "metadata": {},
     "output_type": "execute_result"
    }
   ],
   "source": [
    "class hidden_var:\n",
    "  def __init__(self,pin):\n",
    "    self.__pin=pin\n",
    "  \n",
    "  @property\n",
    "  def key(self):\n",
    "    return self.__pin\n",
    "\n",
    "  @key.setter\n",
    "  def new_pin(self,new_pin):\n",
    "    if new_pin == self.__pin:\n",
    "        print('Please set a new pin')\n",
    "    else:\n",
    "        self.__pin = new_pin\n",
    "        \n",
    "\n",
    "pswd=hidden_var('123')      # to note here, using pswd.pin  does not allow us to access the variable unlike for public variables\n",
    "pswd.key\n"
   ]
  },
  {
   "cell_type": "code",
   "execution_count": 47,
   "id": "a490b5c4-0488-4a24-a8f4-26297d301ea3",
   "metadata": {},
   "outputs": [
    {
     "data": {
      "text/plain": [
       "'567'"
      ]
     },
     "execution_count": 47,
     "metadata": {},
     "output_type": "execute_result"
    }
   ],
   "source": [
    "pswd.new_pin = '567'\n",
    "pswd.key"
   ]
  },
  {
   "cell_type": "markdown",
   "id": "85bbe0d8-8aca-4aff-a8e5-a5e9e9c9e58e",
   "metadata": {},
   "source": [
    "Q5.What is method overriding in python? Write a python code to demonstrate method overriding."
   ]
  },
  {
   "cell_type": "code",
   "execution_count": 15,
   "id": "7874f1ba-b4e7-4f70-8286-178ca42ac638",
   "metadata": {},
   "outputs": [
    {
     "name": "stdout",
     "output_type": "stream",
     "text": [
      "10\n",
      "20\n"
     ]
    }
   ],
   "source": [
    "class Parent():\n",
    "      \n",
    "    def __init__(self):\n",
    "        self.value = 10\n",
    "          \n",
    "    def show(self):\n",
    "        print(self.value)\n",
    "          \n",
    "class Child(Parent):\n",
    "      \n",
    "    def __init__(self):\n",
    "        self.value = 20\n",
    "          \n",
    "    def show(self):\n",
    "        print(self.value)\n",
    "          \n",
    "obj1 = Parent()\n",
    "obj2 = Child()\n",
    "  \n",
    "obj1.show()\n",
    "obj2.show()"
   ]
  }
 ],
 "metadata": {
  "kernelspec": {
   "display_name": "Python 3 (ipykernel)",
   "language": "python",
   "name": "python3"
  },
  "language_info": {
   "codemirror_mode": {
    "name": "ipython",
    "version": 3
   },
   "file_extension": ".py",
   "mimetype": "text/x-python",
   "name": "python",
   "nbconvert_exporter": "python",
   "pygments_lexer": "ipython3",
   "version": "3.10.8"
  }
 },
 "nbformat": 4,
 "nbformat_minor": 5
}
